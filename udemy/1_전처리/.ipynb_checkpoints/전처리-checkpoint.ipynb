{
 "cells": [
  {
   "cell_type": "code",
   "execution_count": 1,
   "id": "60faeb5a-5a77-432e-a14f-758c16754041",
   "metadata": {},
   "outputs": [],
   "source": [
    "import numpy as np\n",
    "import pandas as pd\n",
    "import matplotlib.pyplot as plt"
   ]
  },
  {
   "cell_type": "code",
   "execution_count": 13,
   "id": "56de680c-e4f2-4dae-8c1f-d53560f8f996",
   "metadata": {},
   "outputs": [
    {
     "name": "stdout",
     "output_type": "stream",
     "text": [
      "[['France' 44.0 72000.0]\n",
      " ['Spain' 27.0 48000.0]\n",
      " ['Germany' 30.0 54000.0]\n",
      " ['Spain' 38.0 61000.0]\n",
      " ['Germany' 40.0 nan]\n",
      " ['France' 35.0 58000.0]\n",
      " ['Spain' nan 52000.0]\n",
      " ['France' 48.0 79000.0]\n",
      " ['Germany' 50.0 83000.0]\n",
      " ['France' 37.0 67000.0]] \n",
      "\n",
      "['No' 'Yes' 'No' 'No' 'Yes' 'Yes' 'No' 'Yes' 'No' 'Yes'] \n",
      "\n",
      "(10, 3)\n",
      "(10,)\n"
     ]
    }
   ],
   "source": [
    "dataset = pd.read_csv('data.csv')\n",
    "\n",
    "X = dataset.iloc[:, :-1].values # values는 데이터를 넘파이 배열로 추출한다.\n",
    "Y = dataset.iloc[:, -1].values\n",
    "print(X, \"\\n\")\n",
    "print(Y, \"\\n\")\n",
    "print(X.shape)\n",
    "print(Y.shape)"
   ]
  },
  {
   "cell_type": "code",
   "execution_count": 24,
   "id": "5b2611c4-7419-4abd-892e-dc3c2b29163e",
   "metadata": {},
   "outputs": [
    {
     "name": "stdout",
     "output_type": "stream",
     "text": [
      "[[0.0 1.0 0.0 0.0 44.0 72000.0]\n",
      " [1.0 0.0 0.0 1.0 27.0 48000.0]\n",
      " [1.0 0.0 1.0 0.0 30.0 54000.0]\n",
      " [1.0 0.0 0.0 1.0 38.0 61000.0]\n",
      " [1.0 0.0 1.0 0.0 40.0 63777.77777777778]\n",
      " [0.0 1.0 0.0 0.0 35.0 58000.0]\n",
      " [1.0 0.0 0.0 1.0 38.77777777777778 52000.0]\n",
      " [0.0 1.0 0.0 0.0 48.0 79000.0]\n",
      " [1.0 0.0 1.0 0.0 50.0 83000.0]\n",
      " [0.0 1.0 0.0 0.0 37.0 67000.0]]\n",
      "[[1.0 0.0 1.0 0.0 0.0 44.0 72000.0]\n",
      " [0.0 1.0 0.0 0.0 1.0 27.0 48000.0]\n",
      " [0.0 1.0 0.0 1.0 0.0 30.0 54000.0]\n",
      " [0.0 1.0 0.0 0.0 1.0 38.0 61000.0]\n",
      " [0.0 1.0 0.0 1.0 0.0 40.0 63777.77777777778]\n",
      " [1.0 0.0 1.0 0.0 0.0 35.0 58000.0]\n",
      " [0.0 1.0 0.0 0.0 1.0 38.77777777777778 52000.0]\n",
      " [1.0 0.0 1.0 0.0 0.0 48.0 79000.0]\n",
      " [0.0 1.0 0.0 1.0 0.0 50.0 83000.0]\n",
      " [1.0 0.0 1.0 0.0 0.0 37.0 67000.0]]\n"
     ]
    },
    {
     "data": {
      "text/plain": [
       "array([0, 1, 0, 0, 1, 1, 0, 1, 0, 1])"
      ]
     },
     "execution_count": 24,
     "metadata": {},
     "output_type": "execute_result"
    }
   ],
   "source": [
    "# 결측치 -> 평균으로 대체\n",
    "from sklearn.impute import SimpleImputer\n",
    "imputer = SimpleImputer(missing_values=np.nan, strategy='mean') #missing_values=np.nan 모든 결측값을 대체한다. / strategy='mean' 평균으로 대체한다.\n",
    "imputer.fit(X[:, 1:3]) # 숫자 값을 가지는 열만 전달해야 한다. 어디에 결측값이 있을지 모르니 모든 숫자형 열 선택\n",
    "X[:, 1:3] = imputer.transform(X[:, 1:3])\n",
    "print(X)\n",
    "\n",
    "# 원핫 인코딩 = 한 특성이 여러 개의 범주를 가질 때\n",
    "from sklearn.compose import ColumnTransformer #ColumnTransformer에는 fit_transform 메서드가 있어서 한 번에 처리가 가능하다.\n",
    "from sklearn.preprocessing import OneHotEncoder\n",
    "ct = ColumnTransformer(transformers=[('encoder', OneHotEncoder(), [0])], remainder='passthrough')\n",
    "# transformer에는 세 가지 명시 -> 튜플 형태로 입력\n",
    "#1. 변환 유형인 인코딩\n",
    "#2. 인코딩 유형인 원핫 인코딩\n",
    "#3. 열의 인덱스 []\n",
    "# remainder은 나머지 열은 어떻게 처리할지를 명시 = 'passthrough' 나머지 열은 변환하지 않는다.\n",
    "X = ct.fit_transform(X)\n",
    "print(X)\n",
    "\n",
    "# 레이블 인코딩 = 한 특성이 두 개의 범주를 가질 때\n",
    "from sklearn.preprocessing import LabelEncoder\n",
    "le = LabelEncoder()\n",
    "y = le.fit_transform(Y)\n",
    "y"
   ]
  },
  {
   "cell_type": "markdown",
   "id": "43535bd3-1e22-4bbc-8acd-d3baa2fa2546",
   "metadata": {},
   "source": [
    "### 데이터 스케일링"
   ]
  },
  {
   "cell_type": "code",
   "execution_count": 29,
   "id": "cee9864a-ceef-416f-9a03-eacc61c4d11d",
   "metadata": {},
   "outputs": [
    {
     "name": "stdout",
     "output_type": "stream",
     "text": [
      "[[0.0 1.0 0.0 -0.7745966692414834 1.2909944487358056 27.0 48000.0]\n",
      " [0.0 1.0 0.0 -0.7745966692414834 1.2909944487358056 38.0 61000.0]\n",
      " [1.0 0.0 1.0 -0.7745966692414834 -0.7745966692414834 37.0 67000.0]\n",
      " [0.0 1.0 0.0 1.2909944487358056 -0.7745966692414834 30.0 54000.0]\n",
      " [0.0 1.0 0.0 -0.7745966692414834 1.2909944487358056 38.77777777777778\n",
      "  52000.0]\n",
      " [0.0 1.0 0.0 1.2909944487358056 -0.7745966692414834 50.0 83000.0]\n",
      " [0.0 1.0 0.0 1.2909944487358056 -0.7745966692414834 40.0\n",
      "  63777.77777777778]\n",
      " [1.0 0.0 1.0 -0.7745966692414834 -0.7745966692414834 44.0 72000.0]] \n",
      "\n",
      "[[1.0 0.0 1.0 -0.7745966692414834 -0.7745966692414834 35.0 58000.0]\n",
      " [1.0 0.0 1.0 -0.7745966692414834 -0.7745966692414834 48.0 79000.0]]\n"
     ]
    }
   ],
   "source": [
    "from sklearn.model_selection import train_test_split #훈련 세트와 테스트 세트로 나눈 후 특성 스케일링을 적용해야 한다.\n",
    "X_train, X_test, y_train, y_test = train_test_split(X, y, test_size=0.2)\n",
    "\n",
    "# Feature Scaling = 특성 스케일이 다르면 머신러닝 알고리즘이 잘 작동하지 않는다.\n",
    "# 표준화: -3 ~ 3 사이의 값으로 스케일한다. -> 항상 좋은 값이 나온다.\n",
    "# 정규화: 대부분의 특성이 정규 분포를 따른다는 특수한 상황에서만 좋다.\n",
    "\n",
    "# 특성 행렬의 가변수에는 특성 스케일링의 표준화를 적용하지 않는다. -> 가변수는 0, 1로 이미 -3 ~ 3사이에 있어 의미가 사라진다.\n",
    "from sklearn.preprocessing import StandardScaler\n",
    "sc = StandardScaler()\n",
    "X_train[:, [3,4]] = sc.fit_transform(X_train[:, [3,4]])\n",
    "X_test[:, [3,4]] = sc.transform(X_test[:, [3,4]])\n",
    "\n",
    "print(X_train, '\\n')\n",
    "print(X_test)"
   ]
  }
 ],
 "metadata": {
  "kernelspec": {
   "display_name": "Python 3 (ipykernel)",
   "language": "python",
   "name": "python3"
  },
  "language_info": {
   "codemirror_mode": {
    "name": "ipython",
    "version": 3
   },
   "file_extension": ".py",
   "mimetype": "text/x-python",
   "name": "python",
   "nbconvert_exporter": "python",
   "pygments_lexer": "ipython3",
   "version": "3.12.3"
  }
 },
 "nbformat": 4,
 "nbformat_minor": 5
}
