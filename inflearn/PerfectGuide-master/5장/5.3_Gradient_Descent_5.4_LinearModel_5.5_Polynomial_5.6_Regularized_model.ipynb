{
 "cells": [
  {
   "cell_type": "markdown",
   "metadata": {},
   "source": [
    "## 5.3 Gradient Descent"
   ]
  },
  {
   "cell_type": "markdown",
   "metadata": {},
   "source": [
    "**실제값을 Y=4X+6 시뮬레이션하는 데이터 값 생성**"
   ]
  },
  {
   "cell_type": "code",
   "execution_count": 2,
   "metadata": {},
   "outputs": [
    {
     "data": {
      "text/plain": [
       "<matplotlib.collections.PathCollection at 0x10b7497f0>"
      ]
     },
     "execution_count": 2,
     "metadata": {},
     "output_type": "execute_result"
    },
    {
     "data": {
      "image/png": "[encoded data removed]",
      "text/plain": [
       "<Figure size 640x480 with 1 Axes>"
      ]
     },
     "metadata": {},
     "output_type": "display_data"
    }
   ],
   "source": [
    "import numpy as np\n",
    "import matplotlib.pyplot as plt\n",
    "%matplotlib inline\n",
    "\n",
    "np.random.seed(0)\n",
    "# y = 4X + 6 식을 근사(w1=4, w0=6). random 값은 Noise를 위해 만듬\n",
    "X = 2 * np.random.rand(100,1)\n",
    "y = 6 +4 * X+ np.random.randn(100,1)\n",
    "\n",
    "# X, y 데이터 셋 scatter plot으로 시각화\n",
    "plt.scatter(X, y)"
   ]
  },
  {
   "cell_type": "code",
   "execution_count": 2,
   "metadata": {},
   "outputs": [
    {
     "data": {
      "text/plain": [
       "((100, 1), (100, 1))"
      ]
     },
     "execution_count": 2,
     "metadata": {},
     "output_type": "execute_result"
    }
   ],
   "source": [
    "X.shape, y.shape"
   ]
  },
  {
   "cell_type": "markdown",
   "metadata": {},
   "source": [
    "### 경사하강법 수행 프로세스\n",
    "![](./경사하강법_수행프로세스.png)"
   ]
  },
  {
   "cell_type": "markdown",
   "metadata": {},
   "source": [
    "> - 처음에는 W1, W0를 임의 값으로 설정하고 첫 비용 함수의 값을 계산한다.\n",
    "> - 새로운 W1, 새로운 W0를 반복적으로 업데이트하면서 비용 함수가 최소가 되는 값을 찾는다.\n",
    "> - 주어진 횟수만큼 반복한다."
   ]
  },
  {
   "cell_type": "markdown",
   "metadata": {},
   "source": [
    "**w0과 w1의 값을 최소화 할 수 있도록 업데이트 수행하는 함수 생성**\n",
    "\n",
    "* 예측 배열 y_pred는 np.dot(X, w1.T) + w0 임\n",
    "100개의 데이터 X(1,2,...,100)이 있다면 예측값은 w0 + X(1)*w1 + X(2)*w1 +..+ X(100)*w1이며, 이는 입력 배열 X와 w1 배열의 내적임.\n",
    "* 새로운 w1과 w0를 update함\n",
    "![](./weight_update.png)"
   ]
  },
  {
   "cell_type": "code",
   "execution_count": 3,
   "metadata": {},
   "outputs": [],
   "source": [
    "# w1 과 w0 를 업데이트 할 w1_update, w0_update를 반환. \n",
    "def get_weight_updates(w1, w0, X, y, learning_rate=0.01):\n",
    "    N = len(y)\n",
    "    # 먼저 w1_update, w0_update를 각각 w1, w0의 shape와 동일한 크기를 가진 0 값으로 초기화\n",
    "    w1_update = np.zeros_like(w1)\n",
    "    w0_update = np.zeros_like(w0)\n",
    "    # 예측 배열 계산하고 예측과 실제 값의 차이 계산\n",
    "    y_pred = np.dot(X, w1.T) + w0\n",
    "    diff = y-y_pred\n",
    "         \n",
    "    # w0_update를 dot 행렬 연산으로 구하기 위해 모두 1값을 가진 행렬 생성 \n",
    "    w0_factors = np.ones((N,1))\n",
    "\n",
    "    # w1과 w0을 업데이트할 w1_update와 w0_update 계산\n",
    "    w1_update = -(2/N)*learning_rate*(np.dot(X.T, diff))\n",
    "    w0_update = -(2/N)*learning_rate*(np.dot(w0_factors.T, diff))    \n",
    "    \n",
    "    return w1_update, w0_update"
   ]
  },
  {
   "cell_type": "code",
   "execution_count": 4,
   "metadata": {},
   "outputs": [
    {
     "name": "stdout",
     "output_type": "stream",
     "text": [
      "(100, 1)\n",
      "(1, 1) (1, 1)\n"
     ]
    }
   ],
   "source": [
    "w0 = np.zeros((1,1))\n",
    "w1 = np.zeros((1,1))\n",
    "y_pred = np.dot(X, w1.T) + w0\n",
    "diff = y-y_pred\n",
    "print(diff.shape)\n",
    "w0_factors = np.ones((100,1))\n",
    "w1_update = -(2/100)*0.01*(np.dot(X.T, diff))\n",
    "w0_update = -(2/100)*0.01*(np.dot(w0_factors.T, diff))   \n",
    "print(w1_update.shape, w0_update.shape)"
   ]
  },
  {
   "cell_type": "markdown",
   "metadata": {},
   "source": [
    "**반복적으로 경사 하강법을 이용하여 get_weigth_updates()를 호출하여 w1과 w0를 업데이트 하는 함수 생성**"
   ]
  },
  {
   "cell_type": "code",
   "execution_count": 5,
   "metadata": {},
   "outputs": [],
   "source": [
    "# 입력 인자 iters로 주어진 횟수만큼 반복적으로 w1과 w0를 업데이트 적용함. \n",
    "def gradient_descent_steps(X, y, iters=10000):\n",
    "    # w0와 w1을 모두 0으로 초기화. \n",
    "    w0 = np.zeros((1,1))\n",
    "    w1 = np.zeros((1,1))\n",
    "    \n",
    "    # 인자로 주어진 iters 만큼 반복적으로 get_weight_updates() 호출하여 w1, w0 업데이트 수행. \n",
    "    for ind in range(iters):\n",
    "        w1_update, w0_update = get_weight_updates(w1, w0, X, y, learning_rate=0.01)\n",
    "        w1 = w1 - w1_update\n",
    "        w0 = w0 - w0_update\n",
    "              \n",
    "    return w1, w0"
   ]
  },
  {
   "cell_type": "markdown",
   "metadata": {},
   "source": [
    "**예측 오차 비용을 계산을 수행하는 함수 생성 및 경사 하강법 수행**"
   ]
  },
  {
   "cell_type": "code",
   "execution_count": 8,
   "metadata": {},
   "outputs": [
    {
     "name": "stdout",
     "output_type": "stream",
     "text": [
      "w1:4.022 w0:6.162\n",
      "Gradient Descent Total Cost:0.9935\n"
     ]
    }
   ],
   "source": [
    "def get_cost(y, y_pred):\n",
    "    N = len(y) \n",
    "    cost = np.sum(np.square(y - y_pred))/N\n",
    "    return cost\n",
    "\n",
    "w1, w0 = gradient_descent_steps(X, y, iters=1000)\n",
    "print(\"w1:{0:.3f} w0:{1:.3f}\".format(w1[0,0], w0[0,0]))\n",
    "y_pred = w1[0,0] * X + w0\n",
    "print('Gradient Descent Total Cost:{0:.4f}'.format(get_cost(y, y_pred)))"
   ]
  },
  {
   "cell_type": "code",
   "execution_count": 9,
   "metadata": {},
   "outputs": [
    {
     "data": {
      "text/plain": [
       "[<matplotlib.lines.Line2D at 0x10f02deb0>]"
      ]
     },
     "execution_count": 9,
     "metadata": {},
     "output_type": "execute_result"
    },
    {
     "data": {
      "image/png": "[encoded data removed]",
      "text/plain": [
       "<Figure size 640x480 with 1 Axes>"
      ]
     },
     "metadata": {},
     "output_type": "display_data"
    }
   ],
   "source": [
    "plt.scatter(X, y)\n",
    "plt.plot(X,y_pred)"
   ]
  },
  {
   "cell_type": "markdown",
   "metadata": {},
   "source": [
    "**미니 배치 확률적 경사 하강법을 이용한 최적 비용함수 도출**\n",
    "> - 값이 너무 많으면 사용한다. 주로 사용"
   ]
  },
  {
   "cell_type": "code",
   "execution_count": 11,
   "metadata": {},
   "outputs": [],
   "source": [
    "def stochastic_gradient_descent_steps(X, y, batch_size=10, iters=1000):\n",
    "    w0 = np.zeros((1,1))\n",
    "    w1 = np.zeros((1,1))\n",
    "    prev_cost = 100000\n",
    "    iter_index =0\n",
    "    \n",
    "    for ind in range(iters):\n",
    "        np.random.seed(ind)\n",
    "        # 전체 X, y 데이터에서 랜덤하게 batch_size만큼 데이터 추출하여 sample_X, sample_y로 저장\n",
    "        stochastic_random_index = np.random.permutation(X.shape[0])\n",
    "        sample_X = X[stochastic_random_index[0:batch_size]]\n",
    "        sample_y = y[stochastic_random_index[0:batch_size]]\n",
    "        # 랜덤하게 batch_size만큼 추출된 데이터 기반으로 w1_update, w0_update 계산 후 업데이트\n",
    "        w1_update, w0_update = get_weight_updates(w1, w0, sample_X, sample_y, learning_rate=0.01)\n",
    "        w1 = w1 - w1_update\n",
    "        w0 = w0 - w0_update\n",
    "    \n",
    "    return w1, w0"
   ]
  },
  {
   "cell_type": "code",
   "execution_count": 12,
   "metadata": {},
   "outputs": [
    {
     "data": {
      "text/plain": [
       "array([66, 71, 54, 88, 82, 12, 36, 46, 14, 67, 10,  3, 62, 29, 97, 69, 70,\n",
       "       93, 31, 73, 60, 96, 28, 27, 21, 19, 33, 78, 32, 94,  1, 41, 40, 76,\n",
       "       37, 87, 24, 23, 50,  2, 47, 20, 77, 17, 56, 64, 68, 25, 15, 22, 16,\n",
       "       98, 63, 92, 86, 38,  6, 57, 95, 44,  9, 42, 81, 99, 35, 84, 59, 48,\n",
       "       75, 65, 85, 90, 55, 43, 58, 89, 30, 80, 34, 18, 51, 49, 52, 74, 26,\n",
       "       45, 39,  4, 11, 53, 91, 79,  8,  0,  5, 13, 61, 72,  7, 83])"
      ]
     },
     "execution_count": 12,
     "metadata": {},
     "output_type": "execute_result"
    }
   ],
   "source": [
    "np.random.permutation(100)"
   ]
  },
  {
   "cell_type": "code",
   "execution_count": 13,
   "metadata": {},
   "outputs": [
    {
     "name": "stdout",
     "output_type": "stream",
     "text": [
      "w1: 4.028 w0: 6.156\n",
      "Stochastic Gradient Descent Total Cost:0.9937\n"
     ]
    }
   ],
   "source": [
    "w1, w0 = stochastic_gradient_descent_steps(X, y, iters=1000)\n",
    "print(\"w1:\",round(w1[0,0],3),\"w0:\",round(w0[0,0],3))\n",
    "y_pred = w1[0,0] * X + w0\n",
    "print('Stochastic Gradient Descent Total Cost:{0:.4f}'.format(get_cost(y, y_pred)))\n",
    "  "
   ]
  },
  {
   "cell_type": "markdown",
   "metadata": {},
   "source": [
    "## 5.4 사이킷런 LinearRegression을 이용한 보스턴 주택 가격 예측"
   ]
  },
  {
   "cell_type": "code",
   "execution_count": 11,
   "metadata": {
    "scrolled": true
   },
   "outputs": [
    {
     "name": "stdout",
     "output_type": "stream",
     "text": [
      "Boston 데이타셋 크기 : (506, 14)\n"
     ]
    },
    {
     "data": {
      "text/html": [
       "<div>\n",
       "<style scoped>\n",
       "    .dataframe tbody tr th:only-of-type {\n",
       "        vertical-align: middle;\n",
       "    }\n",
       "\n",
       "    .dataframe tbody tr th {\n",
       "        vertical-align: top;\n",
       "    }\n",
       "\n",
       "    .dataframe thead th {\n",
       "        text-align: right;\n",
       "    }\n",
       "</style>\n",
       "<table border=\"1\" class=\"dataframe\">\n",
       "  <thead>\n",
       "    <tr style=\"text-align: right;\">\n",
       "      <th></th>\n",
       "      <th>CRIM</th>\n",
       "      <th>ZN</th>\n",
       "      <th>INDUS</th>\n",
       "      <th>CHAS</th>\n",
       "      <th>NOX</th>\n",
       "      <th>RM</th>\n",
       "      <th>AGE</th>\n",
       "      <th>DIS</th>\n",
       "      <th>RAD</th>\n",
       "      <th>TAX</th>\n",
       "      <th>PTRATIO</th>\n",
       "      <th>B</th>\n",
       "      <th>LSTAT</th>\n",
       "      <th>PRICE</th>\n",
       "    </tr>\n",
       "  </thead>\n",
       "  <tbody>\n",
       "    <tr>\n",
       "      <th>0</th>\n",
       "      <td>0.00632</td>\n",
       "      <td>18.0</td>\n",
       "      <td>2.31</td>\n",
       "      <td>0.0</td>\n",
       "      <td>0.538</td>\n",
       "      <td>6.575</td>\n",
       "      <td>65.2</td>\n",
       "      <td>4.0900</td>\n",
       "      <td>1.0</td>\n",
       "      <td>296.0</td>\n",
       "      <td>15.3</td>\n",
       "      <td>396.90</td>\n",
       "      <td>4.98</td>\n",
       "      <td>24.0</td>\n",
       "    </tr>\n",
       "    <tr>\n",
       "      <th>1</th>\n",
       "      <td>0.02731</td>\n",
       "      <td>0.0</td>\n",
       "      <td>7.07</td>\n",
       "      <td>0.0</td>\n",
       "      <td>0.469</td>\n",
       "      <td>6.421</td>\n",
       "      <td>78.9</td>\n",
       "      <td>4.9671</td>\n",
       "      <td>2.0</td>\n",
       "      <td>242.0</td>\n",
       "      <td>17.8</td>\n",
       "      <td>396.90</td>\n",
       "      <td>9.14</td>\n",
       "      <td>21.6</td>\n",
       "    </tr>\n",
       "    <tr>\n",
       "      <th>2</th>\n",
       "      <td>0.02729</td>\n",
       "      <td>0.0</td>\n",
       "      <td>7.07</td>\n",
       "      <td>0.0</td>\n",
       "      <td>0.469</td>\n",
       "      <td>7.185</td>\n",
       "      <td>61.1</td>\n",
       "      <td>4.9671</td>\n",
       "      <td>2.0</td>\n",
       "      <td>242.0</td>\n",
       "      <td>17.8</td>\n",
       "      <td>392.83</td>\n",
       "      <td>4.03</td>\n",
       "      <td>34.7</td>\n",
       "    </tr>\n",
       "    <tr>\n",
       "      <th>3</th>\n",
       "      <td>0.03237</td>\n",
       "      <td>0.0</td>\n",
       "      <td>2.18</td>\n",
       "      <td>0.0</td>\n",
       "      <td>0.458</td>\n",
       "      <td>6.998</td>\n",
       "      <td>45.8</td>\n",
       "      <td>6.0622</td>\n",
       "      <td>3.0</td>\n",
       "      <td>222.0</td>\n",
       "      <td>18.7</td>\n",
       "      <td>394.63</td>\n",
       "      <td>2.94</td>\n",
       "      <td>33.4</td>\n",
       "    </tr>\n",
       "    <tr>\n",
       "      <th>4</th>\n",
       "      <td>0.06905</td>\n",
       "      <td>0.0</td>\n",
       "      <td>2.18</td>\n",
       "      <td>0.0</td>\n",
       "      <td>0.458</td>\n",
       "      <td>7.147</td>\n",
       "      <td>54.2</td>\n",
       "      <td>6.0622</td>\n",
       "      <td>3.0</td>\n",
       "      <td>222.0</td>\n",
       "      <td>18.7</td>\n",
       "      <td>396.90</td>\n",
       "      <td>5.33</td>\n",
       "      <td>36.2</td>\n",
       "    </tr>\n",
       "  </tbody>\n",
       "</table>\n",
       "</div>"
      ],
      "text/plain": [
       "      CRIM    ZN  INDUS  CHAS    NOX     RM   AGE     DIS  RAD    TAX  \\\n",
       "0  0.00632  18.0   2.31   0.0  0.538  6.575  65.2  4.0900  1.0  296.0   \n",
       "1  0.02731   0.0   7.07   0.0  0.469  6.421  78.9  4.9671  2.0  242.0   \n",
       "2  0.02729   0.0   7.07   0.0  0.469  7.185  61.1  4.9671  2.0  242.0   \n",
       "3  0.03237   0.0   2.18   0.0  0.458  6.998  45.8  6.0622  3.0  222.0   \n",
       "4  0.06905   0.0   2.18   0.0  0.458  7.147  54.2  6.0622  3.0  222.0   \n",
       "\n",
       "   PTRATIO       B  LSTAT  PRICE  \n",
       "0     15.3  396.90   4.98   24.0  \n",
       "1     17.8  396.90   9.14   21.6  \n",
       "2     17.8  392.83   4.03   34.7  \n",
       "3     18.7  394.63   2.94   33.4  \n",
       "4     18.7  396.90   5.33   36.2  "
      ]
     },
     "execution_count": 11,
     "metadata": {},
     "output_type": "execute_result"
    }
   ],
   "source": [
    "import numpy as np\n",
    "import matplotlib.pyplot as plt\n",
    "import pandas as pd\n",
    "import seaborn as sns\n",
    "\n",
    "import warnings\n",
    "%matplotlib inline\n",
    "\n",
    "# boston 데이타셋 로드\n",
    "bostonDF = pd.read_csv(\"../../../../data/boston.csv\")\n",
    "bostonDF.rename(columns = {\"MEDV\": \"PRICE\"}, inplace=True)\n",
    "\n",
    "print('Boston 데이타셋 크기 :',bostonDF.shape)\n",
    "bostonDF.head()"
   ]
  },
  {
   "cell_type": "markdown",
   "metadata": {},
   "source": [
    "* CRIM: 지역별 범죄 발생률  \n",
    "* ZN: 25,000평방피트를 초과하는 거주 지역의 비율\n",
    "* INDUS: 비상업 지역 넓이 비율\n",
    "* CHAS: 찰스강에 대한 더미 변수(강의 경계에 위치한 경우는 1, 아니면 0)\n",
    "* NOX: 일산화질소 농도\n",
    "* RM: 거주할 수 있는 방 개수\n",
    "* AGE: 1940년 이전에 건축된 소유 주택의 비율\n",
    "* DIS: 5개 주요 고용센터까지의 가중 거리\n",
    "* RAD: 고속도로 접근 용이도\n",
    "* TAX: 10,000달러당 재산세율\n",
    "* PTRATIO: 지역의 교사와 학생 수 비율\n",
    "* B: 지역의 흑인 거주 비율\n",
    "* LSTAT: 하위 계층의 비율\n",
    "* MEDV: 본인 소유의 주택 가격(중앙값) = PRICE"
   ]
  },
  {
   "cell_type": "markdown",
   "metadata": {},
   "source": [
    "* 각 컬럼별로 주택가격에 미치는 영향도를 조사"
   ]
  },
  {
   "cell_type": "code",
   "execution_count": 13,
   "metadata": {},
   "outputs": [
    {
     "data": {
      "image/png": "[encoded data removed]",
      "text/plain": [
       "<Figure size 1152x576 with 8 Axes>"
      ]
     },
     "metadata": {
      "needs_background": "light"
     },
     "output_type": "display_data"
    }
   ],
   "source": [
    "# 2개의 행과 4개의 열을 가진 subplots를 이용. axs는 4x2개의 ax를 가짐.\n",
    "fig, axs = plt.subplots(figsize=(16,8) , ncols=4 , nrows=2)\n",
    "lm_features = ['RM','ZN','INDUS','NOX','AGE','PTRATIO','LSTAT','RAD']\n",
    "\n",
    "for i , feature in enumerate(lm_features): # enumerate: 인덱스와 값을 동시에 접근하면서 루프를 돌리고 싶을 때 사용\n",
    "    row = int(i/4)\n",
    "    col = i%4\n",
    "    \n",
    "    # 시본의 regplot을 이용해 산점도와 선형 회귀 직선을 함께 표현\n",
    "    sns.regplot(x=feature, y='PRICE', data=bostonDF, ax=axs[row][col])"
   ]
  },
  {
   "cell_type": "markdown",
   "metadata": {},
   "source": [
    "**학습과 테스트 데이터 세트로 분리하고 학습/예측/평가 수행**"
   ]
  },
  {
   "cell_type": "code",
   "execution_count": 13,
   "metadata": {},
   "outputs": [
    {
     "name": "stdout",
     "output_type": "stream",
     "text": [
      "MSE : 17.297 , RMSE : 4.159\n",
      "Variance score : 0.757\n"
     ]
    }
   ],
   "source": [
    "from sklearn.model_selection import train_test_split\n",
    "from sklearn.linear_model import LinearRegression\n",
    "from sklearn.metrics import mean_squared_error , r2_score\n",
    "\n",
    "y_target = bostonDF['PRICE']\n",
    "X_data = bostonDF.drop(['PRICE'],axis=1,inplace=False)\n",
    "\n",
    "X_train , X_test , y_train , y_test = train_test_split(X_data , y_target ,test_size=0.3, random_state=156)\n",
    "\n",
    "# Linear Regression OLS로 학습/예측/평가 수행. \n",
    "lr = LinearRegression()\n",
    "lr.fit(X_train ,y_train )\n",
    "y_preds = lr.predict(X_test)\n",
    "mse = mean_squared_error(y_test, y_preds)\n",
    "rmse = np.sqrt(mse)\n",
    "\n",
    "print('MSE : {0:.3f} , RMSE : {1:.3F}'.format(mse , rmse))\n",
    "print('Variance score : {0:.3f}'.format(r2_score(y_test, y_preds)))"
   ]
  },
  {
   "cell_type": "code",
   "execution_count": 15,
   "metadata": {},
   "outputs": [
    {
     "name": "stdout",
     "output_type": "stream",
     "text": [
      "절편 값: 40.995595172164315\n",
      "회귀 계수값: [ -0.1   0.1   0.    3.  -19.8   3.4   0.   -1.7   0.4  -0.   -0.9   0.\n",
      "  -0.6]\n"
     ]
    }
   ],
   "source": [
    "print('절편 값:',lr.intercept_)\n",
    "print('회귀 계수값:', np.round(lr.coef_, 1))"
   ]
  },
  {
   "cell_type": "code",
   "execution_count": 14,
   "metadata": {},
   "outputs": [
    {
     "data": {
      "text/plain": [
       "RM          3.4\n",
       "CHAS        3.0\n",
       "RAD         0.4\n",
       "ZN          0.1\n",
       "INDUS       0.0\n",
       "AGE         0.0\n",
       "TAX        -0.0\n",
       "B           0.0\n",
       "CRIM       -0.1\n",
       "LSTAT      -0.6\n",
       "PTRATIO    -0.9\n",
       "DIS        -1.7\n",
       "NOX       -19.8\n",
       "dtype: float64"
      ]
     },
     "execution_count": 14,
     "metadata": {},
     "output_type": "execute_result"
    }
   ],
   "source": [
    "# 회귀 계수를 큰 값 순으로 정렬하기 위해 Series로 생성. index가 컬럼명에 유의\n",
    "coeff = pd.Series(data=np.round(lr.coef_, 1), index=X_data.columns )\n",
    "coeff.sort_values(ascending=False)"
   ]
  },
  {
   "cell_type": "code",
   "execution_count": 15,
   "metadata": {},
   "outputs": [
    {
     "name": "stdout",
     "output_type": "stream",
     "text": [
      " 5 folds 의 개별 Negative MSE scores:  [-12.46 -26.05 -33.07 -80.76 -33.31]\n",
      " 5 folds 의 개별 RMSE scores :  [3.53 5.1  5.75 8.99 5.77]\n",
      " 5 folds 의 평균 RMSE : 5.829 \n"
     ]
    }
   ],
   "source": [
    "from sklearn.model_selection import cross_val_score\n",
    "\n",
    "y_target = bostonDF['PRICE']\n",
    "X_data = bostonDF.drop(['PRICE'],axis=1,inplace=False)\n",
    "lr = LinearRegression()\n",
    "\n",
    "# cross_val_score( )로 5 Fold 셋으로 MSE 를 구한 뒤 이를 기반으로 다시  RMSE 구함. \n",
    "neg_mse_scores = cross_val_score(lr, X_data, y_target, scoring=\"neg_mean_squared_error\", cv = 5)\n",
    "rmse_scores  = np.sqrt(-1 * neg_mse_scores)\n",
    "avg_rmse = np.mean(rmse_scores)\n",
    "\n",
    "# cross_val_score(scoring=\"neg_mean_squared_error\")로 반환된 값은 모두 음수 \n",
    "print(' 5 folds 의 개별 Negative MSE scores: ', np.round(neg_mse_scores, 2))\n",
    "print(' 5 folds 의 개별 RMSE scores : ', np.round(rmse_scores, 2))\n",
    "print(' 5 folds 의 평균 RMSE : {0:.3f} '.format(avg_rmse))\n"
   ]
  },
  {
   "cell_type": "markdown",
   "metadata": {},
   "source": [
    "## 5-5. Polynomial Regression과 오버피팅/언더피팅 이해\n",
    "### Polynomial Regression 이해"
   ]
  },
  {
   "cell_type": "markdown",
   "metadata": {},
   "source": [
    "PolynomialFeatures 클래스로 다항식 변환\n",
    "\n",
    "![](./image02.png)"
   ]
  },
  {
   "cell_type": "code",
   "execution_count": 16,
   "metadata": {},
   "outputs": [
    {
     "name": "stdout",
     "output_type": "stream",
     "text": [
      "일차 단항식 계수 feature:\n",
      " [[0 1]\n",
      " [2 3]]\n",
      "변환된 2차 다항식 계수 feature:\n",
      " [[1. 0. 1. 0. 0. 1.]\n",
      " [1. 2. 3. 4. 6. 9.]]\n"
     ]
    }
   ],
   "source": [
    "from sklearn.preprocessing import PolynomialFeatures\n",
    "import numpy as np\n",
    "\n",
    "# 다항식으로 변환한 단항식 생성, [[0,1],[2,3]]의 2X2 행렬 생성\n",
    "X = np.arange(4).reshape(2,2)\n",
    "print('일차 단항식 계수 feature:\\n',X )\n",
    "\n",
    "# degree = 2 인 2차 다항식으로 변환하기 위해 PolynomialFeatures를 이용하여 변환\n",
    "poly = PolynomialFeatures(degree=2)\n",
    "poly.fit(X)\n",
    "poly_ftr = poly.transform(X)\n",
    "print('변환된 2차 다항식 계수 feature:\\n', poly_ftr)\n"
   ]
  },
  {
   "cell_type": "markdown",
   "metadata": {},
   "source": [
    "3차 다항식 결정값을 구하는 함수 polynomial_func(X) 생성. 즉 회귀식은 결정값 y = 1+ 2x_1 + 3x_1^2 + 4x_2^3 "
   ]
  },
  {
   "cell_type": "code",
   "execution_count": 19,
   "metadata": {},
   "outputs": [
    {
     "name": "stdout",
     "output_type": "stream",
     "text": [
      "일차 단항식 계수 feature: \n",
      " [[0 1]\n",
      " [2 3]] \n",
      "\n",
      "\n",
      "[0 2]\n",
      "[1 3]\n",
      "\n",
      "삼차 다항식 결정값: \n",
      " [  5 125]\n"
     ]
    }
   ],
   "source": [
    "def polynomial_func(X):\n",
    "    y = 1 + 2*X[:,0] + 3*X[:,0]**2 + 4*X[:,1]**3\n",
    "    print(X[:, 0])\n",
    "    print(X[:, 1])\n",
    "    return y\n",
    "\n",
    "X = np.arange(0,4).reshape(2,2)\n",
    "\n",
    "print('일차 단항식 계수 feature: \\n' ,X, \"\\n\\n\")\n",
    "y = polynomial_func(X)\n",
    "print('\\n삼차 다항식 결정값: \\n', y)"
   ]
  },
  {
   "cell_type": "markdown",
   "metadata": {},
   "source": [
    "3차 다항식 계수의 피처값과 3차 다항식 결정값으로 학습"
   ]
  },
  {
   "cell_type": "code",
   "execution_count": 21,
   "metadata": {},
   "outputs": [
    {
     "name": "stdout",
     "output_type": "stream",
     "text": [
      "3차 다항식 계수 feature: \n",
      " [[ 1.  0.  1.  0.  0.  1.  0.  0.  0.  1.]\n",
      " [ 1.  2.  3.  4.  6.  9.  8. 12. 18. 27.]] \n",
      "\n",
      "\n",
      "Polynomial 회귀 계수\n",
      " [0.   0.18 0.18 0.36 0.54 0.72 0.72 1.08 1.62 2.34]\n",
      "Polynomial 회귀 Shape : (10,)\n"
     ]
    }
   ],
   "source": [
    "# 3 차 다항식 변환 \n",
    "poly_ftr = PolynomialFeatures(degree=3).fit_transform(X)\n",
    "print('3차 다항식 계수 feature: \\n', poly_ftr, \"\\n\\n\")\n",
    "\n",
    "# Linear Regression에 3차 다항식 계수 feature와 3차 다항식 결정값으로 학습 후 회귀 계수 확인\n",
    "model = LinearRegression()\n",
    "model.fit(poly_ftr, y)\n",
    "print('Polynomial 회귀 계수: \\n', np.round(model.coef_, 2))\n",
    "print('Polynomial 회귀 Shape: ', model.coef_.shape)"
   ]
  },
  {
   "cell_type": "markdown",
   "metadata": {},
   "source": [
    "**사이킷런 파이프라인(Pipeline)을 이용하여 3차 다항회귀 학습**  \n",
    "\n",
    "사이킷런의 Pipeline 객체는 Feature 엔지니어링 변환과 모델 학습/예측을 순차적으로 결합해줍니다. "
   ]
  },
  {
   "cell_type": "code",
   "execution_count": 23,
   "metadata": {},
   "outputs": [
    {
     "name": "stdout",
     "output_type": "stream",
     "text": [
      "[[0 1]\n",
      " [2 3]]\n",
      "Polynomial 회귀 계수\n",
      " [0.   0.18 0.18 0.36 0.54 0.72 0.72 1.08 1.62 2.34]\n"
     ]
    }
   ],
   "source": [
    "from sklearn.preprocessing import PolynomialFeatures\n",
    "from sklearn.linear_model import LinearRegression\n",
    "from sklearn.pipeline import Pipeline\n",
    "import numpy as np\n",
    "\n",
    "def polynomial_func(X):\n",
    "    y = 1 + 2*X[:,0] + 3*X[:,0]**2 + 4*X[:,1]**3 \n",
    "    return y\n",
    "\n",
    "# Pipeline 객체로 Streamline 하게 Polynomial Feature변환과 Linear Regression을 연결\n",
    "model = Pipeline([('poly', PolynomialFeatures(degree=3)), ('linear', LinearRegression())])\n",
    "X = np.arange(4).reshape(2,2)\n",
    "y = polynomial_func(X)\n",
    "\n",
    "model = model.fit(X, y)\n",
    "print('Polynomial 회귀 계수\\n', np.round(model.named_steps['linear'].coef_, 2))\n"
   ]
  },
  {
   "cell_type": "markdown",
   "metadata": {},
   "source": [
    "**다항 회귀를 이용한 보스턴 주택가격 예측**"
   ]
  },
  {
   "cell_type": "code",
   "execution_count": 26,
   "metadata": {},
   "outputs": [
    {
     "name": "stdout",
     "output_type": "stream",
     "text": [
      "Boston 데이타셋 크기 : (506, 14)\n",
      "MSE : 15.556 , RMSE : 3.944\n",
      "Variance score : 0.782\n"
     ]
    }
   ],
   "source": [
    "from sklearn.model_selection import train_test_split\n",
    "from sklearn.linear_model import LinearRegression\n",
    "from sklearn.metrics import mean_squared_error , r2_score\n",
    "from sklearn.preprocessing import PolynomialFeatures\n",
    "from sklearn.linear_model import LinearRegression\n",
    "from sklearn.pipeline import Pipeline\n",
    "import numpy as np\n",
    "\n",
    "# boston 데이타셋 로드\n",
    "bostonDF = pd.read_csv(\"../../../../data/boston.csv\")\n",
    "bostonDF.rename(columns = {\"MEDV\": \"PRICE\"}, inplace=True)\n",
    "print('Boston 데이타셋 크기 :',bostonDF.shape)\n",
    "\n",
    "\n",
    "y_target = bostonDF['PRICE']\n",
    "X_data = bostonDF.drop(['PRICE'],axis=1,inplace=False)\n",
    "X_train , X_test , y_train , y_test = train_test_split(X_data , y_target ,test_size=0.3, random_state=156)\n",
    "\n",
    "\n",
    "# Pipeline을 이용하여 PolynomialFeatures 변환과 LinearRegression 적용을 순차적으로 결합. \n",
    "p_model = Pipeline([('poly', PolynomialFeatures(degree=2, include_bias=False)),\n",
    "                  ('linear', LinearRegression())])\n",
    "\n",
    "p_model.fit(X_train, y_train)\n",
    "y_preds = p_model.predict(X_test)\n",
    "mse = mean_squared_error(y_test, y_preds)\n",
    "rmse = np.sqrt(mse)\n",
    "\n",
    "\n",
    "print('MSE : {0:.3f} , RMSE : {1:.3F}'.format(mse , rmse))\n",
    "print('Variance score : {0:.3f}'.format(r2_score(y_test, y_preds)))"
   ]
  },
  {
   "cell_type": "code",
   "execution_count": 27,
   "metadata": {},
   "outputs": [
    {
     "data": {
      "text/plain": [
       "((354, 104), (354, 13))"
      ]
     },
     "execution_count": 27,
     "metadata": {},
     "output_type": "execute_result"
    }
   ],
   "source": [
    "X_train_poly= PolynomialFeatures(degree=2, include_bias=False).fit_transform(X_train, y_train)\n",
    "X_train_poly.shape, X_train.shape"
   ]
  },
  {
   "cell_type": "markdown",
   "metadata": {},
   "source": [
    "### Polynomial Regression을 이용한 Underfitting, Overfitting 이해\n",
    "* 사이킷런의 아래 문서에서 예제를 차용함\n",
    "* https://scikit-learn.org/stable/auto_examples/model_selection/plot_underfitting_overfitting.html"
   ]
  },
  {
   "cell_type": "markdown",
   "metadata": {},
   "source": [
    "**cosine 곡선에 약간의 Noise 변동값을 더하여 실제값 곡선을 만듬**"
   ]
  },
  {
   "cell_type": "code",
   "execution_count": 28,
   "metadata": {},
   "outputs": [],
   "source": [
    "import numpy as np\n",
    "import matplotlib.pyplot as plt\n",
    "from sklearn.pipeline import Pipeline\n",
    "from sklearn.preprocessing import PolynomialFeatures\n",
    "from sklearn.linear_model import LinearRegression\n",
    "from sklearn.model_selection import cross_val_score\n",
    "%matplotlib inline\n",
    "\n",
    "# random 값으로 구성된 X값에 대해 Cosine 변환값을 반환. \n",
    "def true_fun(X):\n",
    "    return np.cos(1.5 * np.pi * X)\n",
    "\n",
    "# X는 0 부터 1까지 30개의 random 값을 순서대로 sampling 한 데이타 입니다.  \n",
    "np.random.seed(0)\n",
    "n_samples = 30\n",
    "X = np.sort(np.random.rand(n_samples))\n",
    "\n",
    "# y 값은 cosine 기반의 true_fun() 에서 약간의 Noise 변동값을 더한 값입니다. \n",
    "y = true_fun(X) + np.random.randn(n_samples) * 0.1"
   ]
  },
  {
   "cell_type": "code",
   "execution_count": 29,
   "metadata": {},
   "outputs": [
    {
     "data": {
      "text/plain": [
       "<matplotlib.collections.PathCollection at 0x14a57f6e0>"
      ]
     },
     "execution_count": 29,
     "metadata": {},
     "output_type": "execute_result"
    },
    {
     "data": {
      "image/png": "[encoded data removed]",
      "text/plain": [
       "<Figure size 640x480 with 1 Axes>"
      ]
     },
     "metadata": {},
     "output_type": "display_data"
    }
   ],
   "source": [
    "plt.scatter(X, y)"
   ]
  },
  {
   "cell_type": "code",
   "execution_count": 30,
   "metadata": {},
   "outputs": [
    {
     "name": "stdout",
     "output_type": "stream",
     "text": [
      "\n",
      "Degree 1 회귀 계수는 [-1.61] 입니다.\n",
      "Degree 1 MSE 는 0.41 입니다.\n",
      "\n",
      "Degree 4 회귀 계수는 [  0.47 -17.79  23.59  -7.26] 입니다.\n",
      "Degree 4 MSE 는 0.04 입니다.\n",
      "\n",
      "Degree 15 회귀 계수는 [-2.98296000e+03  1.03900220e+05 -1.87417578e+06  2.03717768e+07\n",
      " -1.44874367e+08  7.09320603e+08 -2.47067602e+09  6.24565606e+09\n",
      " -1.15677353e+10  1.56896082e+10 -1.54007153e+10  1.06458050e+10\n",
      " -4.91381191e+09  1.35920668e+09 -1.70382083e+08] 입니다.\n",
      "Degree 15 MSE 는 182663484.62 입니다.\n"
     ]
    },
    {
     "data": {
      "image/png": "[encoded data removed]",
      "text/plain": [
       "<Figure size 1400x500 with 3 Axes>"
      ]
     },
     "metadata": {},
     "output_type": "display_data"
    }
   ],
   "source": [
    "plt.figure(figsize=(14, 5))\n",
    "degrees = [1, 4, 15]\n",
    "\n",
    "# 다항 회귀의 차수(degree)를 1, 4, 15로 각각 변화시키면서 비교합니다. \n",
    "for i in range(len(degrees)):\n",
    "    ax = plt.subplot(1, len(degrees), i + 1)\n",
    "    plt.setp(ax, xticks=(), yticks=())\n",
    "    \n",
    "    # 개별 degree별로 Polynomial 변환합니다. \n",
    "    polynomial_features = PolynomialFeatures(degree=degrees[i], include_bias=False)\n",
    "    linear_regression = LinearRegression()\n",
    "    pipeline = Pipeline([(\"polynomial_features\", polynomial_features),\n",
    "                         (\"linear_regression\", linear_regression)])\n",
    "    pipeline.fit(X.reshape(-1, 1), y)\n",
    "    \n",
    "    # 교차 검증으로 다항 회귀를 평가합니다. \n",
    "    scores = cross_val_score(pipeline, X.reshape(-1,1), y, scoring=\"neg_mean_squared_error\", cv=10)\n",
    "    coefficients = pipeline.named_steps['linear_regression'].coef_\n",
    "    print('\\nDegree {0} 회귀 계수는 {1} 입니다.'.format(degrees[i], np.round(coefficients, 2)))\n",
    "    print('Degree {0} MSE 는 {1:.2f} 입니다.'.format(degrees[i] , -1*np.mean(scores)))\n",
    "    \n",
    "    # 0 부터 1까지 테스트 데이터 세트를 100개로 나눠 예측을 수행합니다. \n",
    "    # 테스트 데이터 세트에 회귀 예측을 수행하고 예측 곡선과 실제 곡선을 그려서 비교합니다.  \n",
    "    X_test = np.linspace(0, 1, 100)\n",
    "    # 예측값 곡선\n",
    "    \n",
    "    plt.plot(X_test, pipeline.predict(X_test[:, np.newaxis]), label=\"Model\") \n",
    "    # 실제 값 곡선\n",
    "    \n",
    "    plt.plot(X_test, true_fun(X_test), '--', label=\"True function\")\n",
    "    plt.scatter(X, y, edgecolor='b', s=20, label=\"Samples\")\n",
    "    \n",
    "    plt.xlabel(\"x\"); plt.ylabel(\"y\"); plt.xlim((0, 1)); plt.ylim((-2, 2)); plt.legend(loc=\"best\")\n",
    "    plt.title(\"Degree {}\\nMSE = {:.2e}(+/- {:.2e})\".format(degrees[i], -scores.mean(), scores.std()))\n",
    "\n",
    "plt.show()\n",
    "\n"
   ]
  },
  {
   "cell_type": "markdown",
   "metadata": {},
   "source": [
    "## 5-6. Regularized Linear Models – Ridge, Lasso\n",
    "### Regularized Linear Model - Ridge Regression"
   ]
  },
  {
   "cell_type": "code",
   "execution_count": 5,
   "metadata": {},
   "outputs": [
    {
     "name": "stdout",
     "output_type": "stream",
     "text": [
      "Boston 데이타셋 크기 : (506, 14)\n",
      " 5 folds 의 개별 Negative MSE scores:  [-11.422 -24.294 -28.144 -74.599 -28.517]\n",
      " 5 folds 의 개별 RMSE scores :  [3.38  4.929 5.305 8.637 5.34 ]\n",
      " 5 folds 의 평균 RMSE : 5.518 \n"
     ]
    }
   ],
   "source": [
    "# 앞의 LinearRegression예제에서 분할한 feature 데이터 셋인 X_data과 Target 데이터 셋인 Y_target 데이터셋을 그대로 이용 \n",
    "from sklearn.linear_model import Ridge\n",
    "from sklearn.model_selection import cross_val_score\n",
    "import numpy as np\n",
    "import pandas as pd\n",
    "import matplotlib.pyplot as plt\n",
    "\n",
    "# boston 데이타셋 로드\n",
    "bostonDF = pd.read_csv(\"../../../../data/boston.csv\")\n",
    "bostonDF.rename(columns = {\"MEDV\": \"PRICE\"}, inplace=True)\n",
    "print('Boston 데이타셋 크기 :',bostonDF.shape)\n",
    "\n",
    "\n",
    "y_target = bostonDF['PRICE']\n",
    "X_data = bostonDF.drop(['PRICE'],axis=1,inplace=False)\n",
    "\n",
    "\n",
    "ridge = Ridge(alpha = 10)\n",
    "neg_mse_scores = cross_val_score(ridge, X_data, y_target, scoring=\"neg_mean_squared_error\", cv = 5) # neg = Negative(음수)값을 가진다는 의미\n",
    "rmse_scores  = np.sqrt(-1 * neg_mse_scores)\n",
    "avg_rmse = np.mean(rmse_scores)\n",
    "print(' 5 folds 의 개별 Negative MSE scores: ', np.round(neg_mse_scores, 3))\n",
    "print(' 5 folds 의 개별 RMSE scores : ', np.round(rmse_scores,3))\n",
    "print(' 5 folds 의 평균 RMSE : {0:.3f} '.format(avg_rmse))"
   ]
  },
  {
   "cell_type": "markdown",
   "metadata": {},
   "source": [
    "**alpha값을 0 , 0.1 , 1 , 10 , 100 으로 변경하면서 RMSE 측정**"
   ]
  },
  {
   "cell_type": "code",
   "execution_count": 6,
   "metadata": {},
   "outputs": [
    {
     "name": "stdout",
     "output_type": "stream",
     "text": [
      "alpha 0 일 때 5 folds 의 평균 RMSE : 5.829 \n",
      "alpha 0.1 일 때 5 folds 의 평균 RMSE : 5.788 \n",
      "alpha 1 일 때 5 folds 의 평균 RMSE : 5.653 \n",
      "alpha 10 일 때 5 folds 의 평균 RMSE : 5.518 \n",
      "alpha 100 일 때 5 folds 의 평균 RMSE : 5.330 \n"
     ]
    }
   ],
   "source": [
    "# Ridge에 사용될 alpha 파라미터의 값들을 정의\n",
    "alphas = [0 , 0.1 , 1 , 10 , 100]\n",
    "\n",
    "# alphas list 값을 iteration하면서 alpha에 따른 평균 rmse 구함.\n",
    "for alpha in alphas :\n",
    "    ridge = Ridge(alpha = alpha)\n",
    "    \n",
    "    #cross_val_score를 이용하여 5 fold의 평균 RMSE 계산\n",
    "    neg_mse_scores = cross_val_score(ridge, X_data, y_target, scoring=\"neg_mean_squared_error\", cv = 5)\n",
    "    avg_rmse = np.mean(np.sqrt(-1 * neg_mse_scores))\n",
    "    print('alpha {0} 일 때 5 folds 의 평균 RMSE : {1:.3f} '.format(alpha,avg_rmse))"
   ]
  },
  {
   "cell_type": "markdown",
   "metadata": {},
   "source": [
    "**각 alpha에 따른 회귀 계수 값을 시각화. 각 alpha값 별로 plt.subplots로 맷플롯립 축 생성**"
   ]
  },
  {
   "cell_type": "code",
   "execution_count": 29,
   "metadata": {},
   "outputs": [
    {
     "data": {
      "image/png": "[encoded data removed]",
      "text/plain": [
       "<Figure size 1296x432 with 5 Axes>"
      ]
     },
     "metadata": {
      "needs_background": "light"
     },
     "output_type": "display_data"
    }
   ],
   "source": [
    "# 각 alpha에 따른 회귀 계수 값을 시각화하기 위해 5개의 열로 된 맷플롯립 축 생성  \n",
    "fig , axs = plt.subplots(figsize=(18,6) , nrows=1 , ncols=5)\n",
    "# 각 alpha에 따른 회귀 계수 값을 데이터로 저장하기 위한 DataFrame 생성  \n",
    "coeff_df = pd.DataFrame()\n",
    "\n",
    "# alphas 리스트 값을 차례로 입력해 회귀 계수 값 시각화 및 데이터 저장. pos는 axis의 위치 지정\n",
    "for pos , alpha in enumerate(alphas) :\n",
    "    ridge = Ridge(alpha = alpha)\n",
    "    ridge.fit(X_data , y_target)\n",
    "    # alpha에 따른 피처별 회귀 계수를 Series로 변환하고 이를 DataFrame의 컬럼으로 추가.  \n",
    "    coeff = pd.Series(data=ridge.coef_ , index=X_data.columns )\n",
    "    colname='alpha:'+str(alpha)\n",
    "    coeff_df[colname] = coeff\n",
    "    # 막대 그래프로 각 alpha 값에서의 회귀 계수를 시각화. 회귀 계수값이 높은 순으로 표현\n",
    "    coeff = coeff.sort_values(ascending=False)\n",
    "    axs[pos].set_title(colname)\n",
    "    axs[pos].set_xlim(-3,6)\n",
    "    sns.barplot(x=coeff.values , y=coeff.index, ax=axs[pos])\n",
    "\n",
    "# for 문 바깥에서 맷플롯립의 show 호출 및 alpha에 따른 피처별 회귀 계수를 DataFrame으로 표시\n",
    "plt.show()\n",
    "\n"
   ]
  },
  {
   "cell_type": "markdown",
   "metadata": {},
   "source": [
    "**alpha 값에 따른 컬럼별 회귀계수 출력**"
   ]
  },
  {
   "cell_type": "code",
   "execution_count": 30,
   "metadata": {},
   "outputs": [
    {
     "data": {
      "text/html": [
       "<div>\n",
       "<style scoped>\n",
       "    .dataframe tbody tr th:only-of-type {\n",
       "        vertical-align: middle;\n",
       "    }\n",
       "\n",
       "    .dataframe tbody tr th {\n",
       "        vertical-align: top;\n",
       "    }\n",
       "\n",
       "    .dataframe thead th {\n",
       "        text-align: right;\n",
       "    }\n",
       "</style>\n",
       "<table border=\"1\" class=\"dataframe\">\n",
       "  <thead>\n",
       "    <tr style=\"text-align: right;\">\n",
       "      <th></th>\n",
       "      <th>alpha:0</th>\n",
       "      <th>alpha:0.1</th>\n",
       "      <th>alpha:1</th>\n",
       "      <th>alpha:10</th>\n",
       "      <th>alpha:100</th>\n",
       "    </tr>\n",
       "  </thead>\n",
       "  <tbody>\n",
       "    <tr>\n",
       "      <th>RM</th>\n",
       "      <td>3.809865</td>\n",
       "      <td>3.818233</td>\n",
       "      <td>3.854000</td>\n",
       "      <td>3.702272</td>\n",
       "      <td>2.334536</td>\n",
       "    </tr>\n",
       "    <tr>\n",
       "      <th>CHAS</th>\n",
       "      <td>2.686734</td>\n",
       "      <td>2.670019</td>\n",
       "      <td>2.552393</td>\n",
       "      <td>1.952021</td>\n",
       "      <td>0.638335</td>\n",
       "    </tr>\n",
       "    <tr>\n",
       "      <th>RAD</th>\n",
       "      <td>0.306049</td>\n",
       "      <td>0.303515</td>\n",
       "      <td>0.290142</td>\n",
       "      <td>0.279596</td>\n",
       "      <td>0.315358</td>\n",
       "    </tr>\n",
       "    <tr>\n",
       "      <th>ZN</th>\n",
       "      <td>0.046420</td>\n",
       "      <td>0.046572</td>\n",
       "      <td>0.047443</td>\n",
       "      <td>0.049579</td>\n",
       "      <td>0.054496</td>\n",
       "    </tr>\n",
       "    <tr>\n",
       "      <th>INDUS</th>\n",
       "      <td>0.020559</td>\n",
       "      <td>0.015999</td>\n",
       "      <td>-0.008805</td>\n",
       "      <td>-0.042962</td>\n",
       "      <td>-0.052826</td>\n",
       "    </tr>\n",
       "    <tr>\n",
       "      <th>B</th>\n",
       "      <td>0.009312</td>\n",
       "      <td>0.009368</td>\n",
       "      <td>0.009673</td>\n",
       "      <td>0.010037</td>\n",
       "      <td>0.009393</td>\n",
       "    </tr>\n",
       "    <tr>\n",
       "      <th>AGE</th>\n",
       "      <td>0.000692</td>\n",
       "      <td>-0.000269</td>\n",
       "      <td>-0.005415</td>\n",
       "      <td>-0.010707</td>\n",
       "      <td>0.001212</td>\n",
       "    </tr>\n",
       "    <tr>\n",
       "      <th>TAX</th>\n",
       "      <td>-0.012335</td>\n",
       "      <td>-0.012421</td>\n",
       "      <td>-0.012912</td>\n",
       "      <td>-0.013993</td>\n",
       "      <td>-0.015856</td>\n",
       "    </tr>\n",
       "    <tr>\n",
       "      <th>CRIM</th>\n",
       "      <td>-0.108011</td>\n",
       "      <td>-0.107474</td>\n",
       "      <td>-0.104595</td>\n",
       "      <td>-0.101435</td>\n",
       "      <td>-0.102202</td>\n",
       "    </tr>\n",
       "    <tr>\n",
       "      <th>LSTAT</th>\n",
       "      <td>-0.524758</td>\n",
       "      <td>-0.525966</td>\n",
       "      <td>-0.533343</td>\n",
       "      <td>-0.559366</td>\n",
       "      <td>-0.660764</td>\n",
       "    </tr>\n",
       "    <tr>\n",
       "      <th>PTRATIO</th>\n",
       "      <td>-0.952747</td>\n",
       "      <td>-0.940759</td>\n",
       "      <td>-0.876074</td>\n",
       "      <td>-0.797945</td>\n",
       "      <td>-0.829218</td>\n",
       "    </tr>\n",
       "    <tr>\n",
       "      <th>DIS</th>\n",
       "      <td>-1.475567</td>\n",
       "      <td>-1.459626</td>\n",
       "      <td>-1.372654</td>\n",
       "      <td>-1.248808</td>\n",
       "      <td>-1.153390</td>\n",
       "    </tr>\n",
       "    <tr>\n",
       "      <th>NOX</th>\n",
       "      <td>-17.766611</td>\n",
       "      <td>-16.684645</td>\n",
       "      <td>-10.777015</td>\n",
       "      <td>-2.371619</td>\n",
       "      <td>-0.262847</td>\n",
       "    </tr>\n",
       "  </tbody>\n",
       "</table>\n",
       "</div>"
      ],
      "text/plain": [
       "           alpha:0  alpha:0.1    alpha:1  alpha:10  alpha:100\n",
       "RM        3.809865   3.818233   3.854000  3.702272   2.334536\n",
       "CHAS      2.686734   2.670019   2.552393  1.952021   0.638335\n",
       "RAD       0.306049   0.303515   0.290142  0.279596   0.315358\n",
       "ZN        0.046420   0.046572   0.047443  0.049579   0.054496\n",
       "INDUS     0.020559   0.015999  -0.008805 -0.042962  -0.052826\n",
       "B         0.009312   0.009368   0.009673  0.010037   0.009393\n",
       "AGE       0.000692  -0.000269  -0.005415 -0.010707   0.001212\n",
       "TAX      -0.012335  -0.012421  -0.012912 -0.013993  -0.015856\n",
       "CRIM     -0.108011  -0.107474  -0.104595 -0.101435  -0.102202\n",
       "LSTAT    -0.524758  -0.525966  -0.533343 -0.559366  -0.660764\n",
       "PTRATIO  -0.952747  -0.940759  -0.876074 -0.797945  -0.829218\n",
       "DIS      -1.475567  -1.459626  -1.372654 -1.248808  -1.153390\n",
       "NOX     -17.766611 -16.684645 -10.777015 -2.371619  -0.262847"
      ]
     },
     "execution_count": 30,
     "metadata": {},
     "output_type": "execute_result"
    }
   ],
   "source": [
    "ridge_alphas = [0 , 0.1 , 1 , 10 , 100]\n",
    "sort_column = 'alpha:'+str(ridge_alphas[0])\n",
    "coeff_df.sort_values(by=sort_column, ascending=False)"
   ]
  },
  {
   "cell_type": "markdown",
   "metadata": {},
   "source": [
    "### 라쏘 회귀"
   ]
  },
  {
   "cell_type": "code",
   "execution_count": 21,
   "metadata": {},
   "outputs": [],
   "source": [
    "from sklearn.linear_model import Lasso, ElasticNet\n",
    "\n",
    "# alpha값에 따른 회귀 모델의 폴드 평균 RMSE를 출력하고 회귀 계수값들을 DataFrame으로 반환 \n",
    "def get_linear_reg_eval(model_name, params=None, X_data_n=None, y_target_n=None, \n",
    "                        verbose=True, return_coeff=True):\n",
    "    coeff_df = pd.DataFrame()\n",
    "    if verbose : print('####### ', model_name , '#######')\n",
    "    for param in params:\n",
    "        if model_name =='Ridge': model = Ridge(alpha=param)\n",
    "        elif model_name =='Lasso': model = Lasso(alpha=param)\n",
    "        elif model_name =='ElasticNet': model = ElasticNet(alpha=param, l1_ratio=0.7)\n",
    "        neg_mse_scores = cross_val_score(model, X_data_n, \n",
    "                                             y_target_n, scoring=\"neg_mean_squared_error\", cv = 5)\n",
    "        avg_rmse = np.mean(np.sqrt(-1 *  neg_mse_scores))\n",
    "        print('alpha {0}일 때 5 폴드 세트의 평균 RMSE: {1:.3f} '.format(param, avg_rmse))\n",
    "        # cross_val_score는 evaluation metric만 반환하므로 모델을 다시 학습하여 회귀 계수 추출\n",
    "        \n",
    "        model.fit(X_data_n , y_target_n)\n",
    "        if return_coeff:\n",
    "            # alpha에 따른 피처별 회귀 계수를 Series로 변환하고 이를 DataFrame의 컬럼으로 추가. \n",
    "            coeff = pd.Series(data=model.coef_ , index=X_data_n.columns )\n",
    "            colname='alpha:'+str(param)\n",
    "            coeff_df[colname] = coeff\n",
    "    \n",
    "    return coeff_df\n",
    "# end of get_linear_regre_eval"
   ]
  },
  {
   "cell_type": "code",
   "execution_count": 8,
   "metadata": {},
   "outputs": [
    {
     "name": "stdout",
     "output_type": "stream",
     "text": [
      "#######  Lasso #######\n",
      "alpha 0.07일 때 5 폴드 세트의 평균 RMSE: 5.612 \n",
      "alpha 0.1일 때 5 폴드 세트의 평균 RMSE: 5.615 \n",
      "alpha 0.5일 때 5 폴드 세트의 평균 RMSE: 5.669 \n",
      "alpha 1일 때 5 폴드 세트의 평균 RMSE: 5.776 \n",
      "alpha 3일 때 5 폴드 세트의 평균 RMSE: 6.189 \n"
     ]
    }
   ],
   "source": [
    "# 라쏘에 사용될 alpha 파라미터의 값들을 정의하고 get_linear_reg_eval() 함수 호출\n",
    "lasso_alphas = [ 0.07, 0.1, 0.5, 1, 3]\n",
    "coeff_lasso_df =get_linear_reg_eval('Lasso', params=lasso_alphas, X_data_n=X_data, y_target_n=y_target)"
   ]
  },
  {
   "cell_type": "code",
   "execution_count": 9,
   "metadata": {},
   "outputs": [
    {
     "data": {
      "text/html": [
       "<div>\n",
       "<style scoped>\n",
       "    .dataframe tbody tr th:only-of-type {\n",
       "        vertical-align: middle;\n",
       "    }\n",
       "\n",
       "    .dataframe tbody tr th {\n",
       "        vertical-align: top;\n",
       "    }\n",
       "\n",
       "    .dataframe thead th {\n",
       "        text-align: right;\n",
       "    }\n",
       "</style>\n",
       "<table border=\"1\" class=\"dataframe\">\n",
       "  <thead>\n",
       "    <tr style=\"text-align: right;\">\n",
       "      <th></th>\n",
       "      <th>alpha:0.07</th>\n",
       "      <th>alpha:0.1</th>\n",
       "      <th>alpha:0.5</th>\n",
       "      <th>alpha:1</th>\n",
       "      <th>alpha:3</th>\n",
       "    </tr>\n",
       "  </thead>\n",
       "  <tbody>\n",
       "    <tr>\n",
       "      <th>RM</th>\n",
       "      <td>3.789725</td>\n",
       "      <td>3.703202</td>\n",
       "      <td>2.498212</td>\n",
       "      <td>0.949811</td>\n",
       "      <td>0.000000</td>\n",
       "    </tr>\n",
       "    <tr>\n",
       "      <th>CHAS</th>\n",
       "      <td>1.434343</td>\n",
       "      <td>0.955190</td>\n",
       "      <td>0.000000</td>\n",
       "      <td>0.000000</td>\n",
       "      <td>0.000000</td>\n",
       "    </tr>\n",
       "    <tr>\n",
       "      <th>RAD</th>\n",
       "      <td>0.270936</td>\n",
       "      <td>0.274707</td>\n",
       "      <td>0.277451</td>\n",
       "      <td>0.264206</td>\n",
       "      <td>0.061864</td>\n",
       "    </tr>\n",
       "    <tr>\n",
       "      <th>ZN</th>\n",
       "      <td>0.049059</td>\n",
       "      <td>0.049211</td>\n",
       "      <td>0.049544</td>\n",
       "      <td>0.049165</td>\n",
       "      <td>0.037231</td>\n",
       "    </tr>\n",
       "    <tr>\n",
       "      <th>B</th>\n",
       "      <td>0.010248</td>\n",
       "      <td>0.010249</td>\n",
       "      <td>0.009469</td>\n",
       "      <td>0.008247</td>\n",
       "      <td>0.006510</td>\n",
       "    </tr>\n",
       "    <tr>\n",
       "      <th>NOX</th>\n",
       "      <td>-0.000000</td>\n",
       "      <td>-0.000000</td>\n",
       "      <td>-0.000000</td>\n",
       "      <td>-0.000000</td>\n",
       "      <td>0.000000</td>\n",
       "    </tr>\n",
       "    <tr>\n",
       "      <th>AGE</th>\n",
       "      <td>-0.011706</td>\n",
       "      <td>-0.010037</td>\n",
       "      <td>0.003604</td>\n",
       "      <td>0.020910</td>\n",
       "      <td>0.042495</td>\n",
       "    </tr>\n",
       "    <tr>\n",
       "      <th>TAX</th>\n",
       "      <td>-0.014290</td>\n",
       "      <td>-0.014570</td>\n",
       "      <td>-0.015442</td>\n",
       "      <td>-0.015212</td>\n",
       "      <td>-0.008602</td>\n",
       "    </tr>\n",
       "    <tr>\n",
       "      <th>INDUS</th>\n",
       "      <td>-0.042120</td>\n",
       "      <td>-0.036619</td>\n",
       "      <td>-0.005253</td>\n",
       "      <td>-0.000000</td>\n",
       "      <td>-0.000000</td>\n",
       "    </tr>\n",
       "    <tr>\n",
       "      <th>CRIM</th>\n",
       "      <td>-0.098193</td>\n",
       "      <td>-0.097894</td>\n",
       "      <td>-0.083289</td>\n",
       "      <td>-0.063437</td>\n",
       "      <td>-0.000000</td>\n",
       "    </tr>\n",
       "    <tr>\n",
       "      <th>LSTAT</th>\n",
       "      <td>-0.560431</td>\n",
       "      <td>-0.568769</td>\n",
       "      <td>-0.656290</td>\n",
       "      <td>-0.761115</td>\n",
       "      <td>-0.807679</td>\n",
       "    </tr>\n",
       "    <tr>\n",
       "      <th>PTRATIO</th>\n",
       "      <td>-0.765107</td>\n",
       "      <td>-0.770654</td>\n",
       "      <td>-0.758752</td>\n",
       "      <td>-0.722966</td>\n",
       "      <td>-0.265072</td>\n",
       "    </tr>\n",
       "    <tr>\n",
       "      <th>DIS</th>\n",
       "      <td>-1.176583</td>\n",
       "      <td>-1.160538</td>\n",
       "      <td>-0.936605</td>\n",
       "      <td>-0.668790</td>\n",
       "      <td>-0.000000</td>\n",
       "    </tr>\n",
       "  </tbody>\n",
       "</table>\n",
       "</div>"
      ],
      "text/plain": [
       "         alpha:0.07  alpha:0.1  alpha:0.5   alpha:1   alpha:3\n",
       "RM         3.789725   3.703202   2.498212  0.949811  0.000000\n",
       "CHAS       1.434343   0.955190   0.000000  0.000000  0.000000\n",
       "RAD        0.270936   0.274707   0.277451  0.264206  0.061864\n",
       "ZN         0.049059   0.049211   0.049544  0.049165  0.037231\n",
       "B          0.010248   0.010249   0.009469  0.008247  0.006510\n",
       "NOX       -0.000000  -0.000000  -0.000000 -0.000000  0.000000\n",
       "AGE       -0.011706  -0.010037   0.003604  0.020910  0.042495\n",
       "TAX       -0.014290  -0.014570  -0.015442 -0.015212 -0.008602\n",
       "INDUS     -0.042120  -0.036619  -0.005253 -0.000000 -0.000000\n",
       "CRIM      -0.098193  -0.097894  -0.083289 -0.063437 -0.000000\n",
       "LSTAT     -0.560431  -0.568769  -0.656290 -0.761115 -0.807679\n",
       "PTRATIO   -0.765107  -0.770654  -0.758752 -0.722966 -0.265072\n",
       "DIS       -1.176583  -1.160538  -0.936605 -0.668790 -0.000000"
      ]
     },
     "execution_count": 9,
     "metadata": {},
     "output_type": "execute_result"
    }
   ],
   "source": [
    "# 반환된 coeff_lasso_df를 첫번째 컬럼순으로 내림차순 정렬하여 회귀계수 DataFrame출력\n",
    "sort_column = 'alpha:'+str(lasso_alphas[0])\n",
    "coeff_lasso_df.sort_values(by=sort_column, ascending=False)"
   ]
  },
  {
   "cell_type": "markdown",
   "metadata": {},
   "source": [
    "### 엘라스틱넷 회귀"
   ]
  },
  {
   "cell_type": "code",
   "execution_count": 12,
   "metadata": {},
   "outputs": [
    {
     "name": "stdout",
     "output_type": "stream",
     "text": [
      "#######  ElasticNet #######\n",
      "alpha 0.07일 때 5 폴드 세트의 평균 RMSE: 5.542 \n",
      "alpha 0.1일 때 5 폴드 세트의 평균 RMSE: 5.526 \n",
      "alpha 0.5일 때 5 폴드 세트의 평균 RMSE: 5.467 \n",
      "alpha 1일 때 5 폴드 세트의 평균 RMSE: 5.597 \n",
      "alpha 3일 때 5 폴드 세트의 평균 RMSE: 6.068 \n"
     ]
    }
   ],
   "source": [
    "# 엘라스틱넷에 사용될 alpha 파라미터의 값들을 정의하고 get_linear_reg_eval() 함수 호출\n",
    "# l1_ratio는 0.7로 고정\n",
    "elastic_alphas = [ 0.07, 0.1, 0.5, 1, 3]\n",
    "coeff_elastic_df =get_linear_reg_eval('ElasticNet', params=elastic_alphas,\n",
    "                                      X_data_n=X_data, y_target_n=y_target)"
   ]
  },
  {
   "cell_type": "code",
   "execution_count": 13,
   "metadata": {},
   "outputs": [
    {
     "data": {
      "text/html": [
       "<div>\n",
       "<style scoped>\n",
       "    .dataframe tbody tr th:only-of-type {\n",
       "        vertical-align: middle;\n",
       "    }\n",
       "\n",
       "    .dataframe tbody tr th {\n",
       "        vertical-align: top;\n",
       "    }\n",
       "\n",
       "    .dataframe thead th {\n",
       "        text-align: right;\n",
       "    }\n",
       "</style>\n",
       "<table border=\"1\" class=\"dataframe\">\n",
       "  <thead>\n",
       "    <tr style=\"text-align: right;\">\n",
       "      <th></th>\n",
       "      <th>alpha:0.07</th>\n",
       "      <th>alpha:0.1</th>\n",
       "      <th>alpha:0.5</th>\n",
       "      <th>alpha:1</th>\n",
       "      <th>alpha:3</th>\n",
       "    </tr>\n",
       "  </thead>\n",
       "  <tbody>\n",
       "    <tr>\n",
       "      <th>RM</th>\n",
       "      <td>3.574162</td>\n",
       "      <td>3.414154</td>\n",
       "      <td>1.918419</td>\n",
       "      <td>0.938789</td>\n",
       "      <td>0.000000</td>\n",
       "    </tr>\n",
       "    <tr>\n",
       "      <th>CHAS</th>\n",
       "      <td>1.330724</td>\n",
       "      <td>0.979706</td>\n",
       "      <td>0.000000</td>\n",
       "      <td>0.000000</td>\n",
       "      <td>0.000000</td>\n",
       "    </tr>\n",
       "    <tr>\n",
       "      <th>RAD</th>\n",
       "      <td>0.278880</td>\n",
       "      <td>0.283443</td>\n",
       "      <td>0.300761</td>\n",
       "      <td>0.289299</td>\n",
       "      <td>0.146846</td>\n",
       "    </tr>\n",
       "    <tr>\n",
       "      <th>ZN</th>\n",
       "      <td>0.050107</td>\n",
       "      <td>0.050617</td>\n",
       "      <td>0.052878</td>\n",
       "      <td>0.052136</td>\n",
       "      <td>0.038268</td>\n",
       "    </tr>\n",
       "    <tr>\n",
       "      <th>B</th>\n",
       "      <td>0.010122</td>\n",
       "      <td>0.010067</td>\n",
       "      <td>0.009114</td>\n",
       "      <td>0.008320</td>\n",
       "      <td>0.007020</td>\n",
       "    </tr>\n",
       "    <tr>\n",
       "      <th>AGE</th>\n",
       "      <td>-0.010116</td>\n",
       "      <td>-0.008276</td>\n",
       "      <td>0.007760</td>\n",
       "      <td>0.020348</td>\n",
       "      <td>0.043446</td>\n",
       "    </tr>\n",
       "    <tr>\n",
       "      <th>TAX</th>\n",
       "      <td>-0.014522</td>\n",
       "      <td>-0.014814</td>\n",
       "      <td>-0.016046</td>\n",
       "      <td>-0.016218</td>\n",
       "      <td>-0.011417</td>\n",
       "    </tr>\n",
       "    <tr>\n",
       "      <th>INDUS</th>\n",
       "      <td>-0.044855</td>\n",
       "      <td>-0.042719</td>\n",
       "      <td>-0.023252</td>\n",
       "      <td>-0.000000</td>\n",
       "      <td>-0.000000</td>\n",
       "    </tr>\n",
       "    <tr>\n",
       "      <th>CRIM</th>\n",
       "      <td>-0.099468</td>\n",
       "      <td>-0.099213</td>\n",
       "      <td>-0.089070</td>\n",
       "      <td>-0.073577</td>\n",
       "      <td>-0.019058</td>\n",
       "    </tr>\n",
       "    <tr>\n",
       "      <th>NOX</th>\n",
       "      <td>-0.175072</td>\n",
       "      <td>-0.000000</td>\n",
       "      <td>-0.000000</td>\n",
       "      <td>-0.000000</td>\n",
       "      <td>-0.000000</td>\n",
       "    </tr>\n",
       "    <tr>\n",
       "      <th>LSTAT</th>\n",
       "      <td>-0.574822</td>\n",
       "      <td>-0.587702</td>\n",
       "      <td>-0.693861</td>\n",
       "      <td>-0.760457</td>\n",
       "      <td>-0.800368</td>\n",
       "    </tr>\n",
       "    <tr>\n",
       "      <th>PTRATIO</th>\n",
       "      <td>-0.779498</td>\n",
       "      <td>-0.784725</td>\n",
       "      <td>-0.790969</td>\n",
       "      <td>-0.738672</td>\n",
       "      <td>-0.423065</td>\n",
       "    </tr>\n",
       "    <tr>\n",
       "      <th>DIS</th>\n",
       "      <td>-1.189438</td>\n",
       "      <td>-1.173647</td>\n",
       "      <td>-0.975902</td>\n",
       "      <td>-0.725174</td>\n",
       "      <td>-0.031208</td>\n",
       "    </tr>\n",
       "  </tbody>\n",
       "</table>\n",
       "</div>"
      ],
      "text/plain": [
       "         alpha:0.07  alpha:0.1  alpha:0.5   alpha:1   alpha:3\n",
       "RM         3.574162   3.414154   1.918419  0.938789  0.000000\n",
       "CHAS       1.330724   0.979706   0.000000  0.000000  0.000000\n",
       "RAD        0.278880   0.283443   0.300761  0.289299  0.146846\n",
       "ZN         0.050107   0.050617   0.052878  0.052136  0.038268\n",
       "B          0.010122   0.010067   0.009114  0.008320  0.007020\n",
       "AGE       -0.010116  -0.008276   0.007760  0.020348  0.043446\n",
       "TAX       -0.014522  -0.014814  -0.016046 -0.016218 -0.011417\n",
       "INDUS     -0.044855  -0.042719  -0.023252 -0.000000 -0.000000\n",
       "CRIM      -0.099468  -0.099213  -0.089070 -0.073577 -0.019058\n",
       "NOX       -0.175072  -0.000000  -0.000000 -0.000000 -0.000000\n",
       "LSTAT     -0.574822  -0.587702  -0.693861 -0.760457 -0.800368\n",
       "PTRATIO   -0.779498  -0.784725  -0.790969 -0.738672 -0.423065\n",
       "DIS       -1.189438  -1.173647  -0.975902 -0.725174 -0.031208"
      ]
     },
     "execution_count": 13,
     "metadata": {},
     "output_type": "execute_result"
    }
   ],
   "source": [
    "# 반환된 coeff_elastic_df를 첫번째 컬럼순으로 내림차순 정렬하여 회귀계수 DataFrame출력\n",
    "sort_column = 'alpha:'+str(elastic_alphas[0])\n",
    "coeff_elastic_df.sort_values(by=sort_column, ascending=False)"
   ]
  },
  {
   "cell_type": "markdown",
   "metadata": {},
   "source": [
    "### 선형 회귀 모델을 위한 데이터 변환"
   ]
  },
  {
   "cell_type": "code",
   "execution_count": 16,
   "metadata": {},
   "outputs": [],
   "source": [
    "from sklearn.linear_model import Ridge\n",
    "from sklearn.model_selection import cross_val_score\n",
    "\n",
    "# boston 데이타셋 로드\n",
    "bostonDF = pd.read_csv(\"../../../../data/boston.csv\")\n",
    "bostonDF.rename(columns = {\"MEDV\": \"PRICE\"}, inplace=True)\n",
    "\n",
    "y_target = bostonDF['PRICE']\n",
    "X_data = bostonDF.drop(['PRICE'],axis=1,inplace=False)"
   ]
  },
  {
   "cell_type": "code",
   "execution_count": 19,
   "metadata": {},
   "outputs": [
    {
     "data": {
      "text/plain": [
       "<Axes: >"
      ]
     },
     "execution_count": 19,
     "metadata": {},
     "output_type": "execute_result"
    },
    {
     "data": {
      "image/png": "[encoded data removed]",
      "text/plain": [
       "<Figure size 640x480 with 1 Axes>"
      ]
     },
     "metadata": {},
     "output_type": "display_data"
    }
   ],
   "source": [
    "bostonDF['PRICE'].hist()"
   ]
  },
  {
   "cell_type": "code",
   "execution_count": 17,
   "metadata": {},
   "outputs": [],
   "source": [
    "from sklearn.preprocessing import StandardScaler, MinMaxScaler, PolynomialFeatures\n",
    "\n",
    "# method는 표준 정규 분포 변환(Standard), 최대값/최소값 정규화(MinMax), 로그변환(Log) 결정\n",
    "# p_degree는 다향식 특성을 추가할 때 적용. p_degree는 2이상 부여하지 않음. \n",
    "def get_scaled_data(method='None', p_degree=None, input_data=None):\n",
    "    \n",
    "    if method == 'Standard':\n",
    "        scaled_data = StandardScaler().fit_transform(input_data)\n",
    "    elif method == 'MinMax':\n",
    "        scaled_data = MinMaxScaler().fit_transform(input_data)\n",
    "    elif method == 'Log':\n",
    "        scaled_data = np.log1p(input_data)\n",
    "    else:\n",
    "        scaled_data = input_data\n",
    "\n",
    "    if p_degree != None:\n",
    "        scaled_data = PolynomialFeatures(degree=p_degree, include_bias=False).fit_transform(scaled_data)\n",
    "    \n",
    "    return scaled_data"
   ]
  },
  {
   "cell_type": "code",
   "execution_count": 22,
   "metadata": {},
   "outputs": [
    {
     "name": "stdout",
     "output_type": "stream",
     "text": [
      "\n",
      "## 변환 유형:None, Polynomial Degree:None\n",
      "alpha 0.1일 때 5 폴드 세트의 평균 RMSE: 5.788 \n",
      "alpha 1일 때 5 폴드 세트의 평균 RMSE: 5.653 \n",
      "alpha 10일 때 5 폴드 세트의 평균 RMSE: 5.518 \n",
      "alpha 100일 때 5 폴드 세트의 평균 RMSE: 5.330 \n",
      "\n",
      "## 변환 유형:Standard, Polynomial Degree:None\n",
      "alpha 0.1일 때 5 폴드 세트의 평균 RMSE: 5.826 \n",
      "alpha 1일 때 5 폴드 세트의 평균 RMSE: 5.803 \n",
      "alpha 10일 때 5 폴드 세트의 평균 RMSE: 5.637 \n",
      "alpha 100일 때 5 폴드 세트의 평균 RMSE: 5.421 \n",
      "\n",
      "## 변환 유형:Standard, Polynomial Degree:2\n",
      "alpha 0.1일 때 5 폴드 세트의 평균 RMSE: 8.827 \n",
      "alpha 1일 때 5 폴드 세트의 평균 RMSE: 6.871 \n",
      "alpha 10일 때 5 폴드 세트의 평균 RMSE: 5.485 \n",
      "alpha 100일 때 5 폴드 세트의 평균 RMSE: 4.634 \n",
      "\n",
      "## 변환 유형:MinMax, Polynomial Degree:None\n",
      "alpha 0.1일 때 5 폴드 세트의 평균 RMSE: 5.764 \n",
      "alpha 1일 때 5 폴드 세트의 평균 RMSE: 5.465 \n",
      "alpha 10일 때 5 폴드 세트의 평균 RMSE: 5.754 \n",
      "alpha 100일 때 5 폴드 세트의 평균 RMSE: 7.635 \n",
      "\n",
      "## 변환 유형:MinMax, Polynomial Degree:2\n",
      "alpha 0.1일 때 5 폴드 세트의 평균 RMSE: 5.298 \n",
      "alpha 1일 때 5 폴드 세트의 평균 RMSE: 4.323 \n",
      "alpha 10일 때 5 폴드 세트의 평균 RMSE: 5.185 \n",
      "alpha 100일 때 5 폴드 세트의 평균 RMSE: 6.538 \n",
      "\n",
      "## 변환 유형:Log, Polynomial Degree:None\n",
      "alpha 0.1일 때 5 폴드 세트의 평균 RMSE: 4.770 \n",
      "alpha 1일 때 5 폴드 세트의 평균 RMSE: 4.676 \n",
      "alpha 10일 때 5 폴드 세트의 평균 RMSE: 4.836 \n",
      "alpha 100일 때 5 폴드 세트의 평균 RMSE: 6.241 \n"
     ]
    }
   ],
   "source": [
    "# Ridge의 alpha값을 다르게 적용하고 다양한 데이터 변환방법에 따른 RMSE 추출. \n",
    "alphas = [0.1, 1, 10, 100]\n",
    "#변환 방법은 모두 6개, 원본 그대로, 표준정규분포, 표준정규분포+다항식 특성\n",
    "# 최대/최소 정규화, 최대/최소 정규화+다항식 특성, 로그변환 \n",
    "scale_methods=[(None, None), ('Standard', None), ('Standard', 2), ('MinMax', None), ('MinMax', 2), ('Log', None)]\n",
    "\n",
    "for scale_method in scale_methods:\n",
    "    X_data_scaled = get_scaled_data(method=scale_method[0], p_degree=scale_method[1], input_data=X_data)\n",
    "    \n",
    "    print('\\n## 변환 유형:{0}, Polynomial Degree:{1}'.format(scale_method[0], scale_method[1]))\n",
    "    \n",
    "    get_linear_reg_eval('Ridge', params=alphas, X_data_n=X_data_scaled, y_target_n=y_target, verbose=False, return_coeff=False)"
   ]
  },
  {
   "cell_type": "code",
   "execution_count": null,
   "metadata": {},
   "outputs": [],
   "source": []
  }
 ],
 "metadata": {
  "kernelspec": {
   "display_name": "Python 3 (ipykernel)",
   "language": "python",
   "name": "python3"
  },
  "language_info": {
   "codemirror_mode": {
    "name": "ipython",
    "version": 3
   },
   "file_extension": ".py",
   "mimetype": "text/x-python",
   "name": "python",
   "nbconvert_exporter": "python",
   "pygments_lexer": "ipython3",
   "version": "3.12.3"
  }
 },
 "nbformat": 4,
 "nbformat_minor": 4
}
