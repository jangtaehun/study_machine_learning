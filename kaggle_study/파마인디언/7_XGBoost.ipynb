{
 "cells": [
  {
   "cell_type": "code",
   "execution_count": 1,
   "id": "21778105-5d4e-45ac-a9c5-4cbc09975329",
   "metadata": {},
   "outputs": [
    {
     "name": "stdout",
     "output_type": "stream",
     "text": [
      "2.0.3\n"
     ]
    }
   ],
   "source": [
    "import xgboost as xgb\n",
    "from xgboost import plot_importance\n",
    "\n",
    "print(xgb.__version__)"
   ]
  },
  {
   "cell_type": "markdown",
   "id": "aba988c9-748b-472f-96a2-f3d07f6376b6",
   "metadata": {},
   "source": [
    "#### 파이썬 Native XGBoost 적용 – 위스콘신 Breast Cancer 데이터 셋"
   ]
  },
  {
   "cell_type": "code",
   "execution_count": 2,
   "id": "9d7fa73e-780e-439c-b8e1-4f61d572ec8e",
   "metadata": {},
   "outputs": [
    {
     "name": "stdout",
     "output_type": "stream",
     "text": [
      "       Pregnancies     Glucose  BloodPressure  SkinThickness     Insulin  \\\n",
      "count   768.000000  768.000000     768.000000     768.000000  768.000000   \n",
      "mean      3.845052  120.894531      69.105469      20.536458   79.799479   \n",
      "std       3.369578   31.972618      19.355807      15.952218  115.244002   \n",
      "min       0.000000    0.000000       0.000000       0.000000    0.000000   \n",
      "25%       1.000000   99.000000      62.000000       0.000000    0.000000   \n",
      "50%       3.000000  117.000000      72.000000      23.000000   30.500000   \n",
      "75%       6.000000  140.250000      80.000000      32.000000  127.250000   \n",
      "max      17.000000  199.000000     122.000000      99.000000  846.000000   \n",
      "\n",
      "              BMI  DiabetesPedigreeFunction         Age     Outcome  \n",
      "count  768.000000                768.000000  768.000000  768.000000  \n",
      "mean    31.992578                  0.471876   33.240885    0.348958  \n",
      "std      7.884160                  0.331329   11.760232    0.476951  \n",
      "min      0.000000                  0.078000   21.000000    0.000000  \n",
      "25%     27.300000                  0.243750   24.000000    0.000000  \n",
      "50%     32.000000                  0.372500   29.000000    0.000000  \n",
      "75%     36.600000                  0.626250   41.000000    1.000000  \n",
      "max     67.100000                  2.420000   81.000000    1.000000  \n",
      "\n",
      "\n",
      "데이터 세트 Null 값 갯수  0 \n",
      "\n"
     ]
    }
   ],
   "source": [
    "import numpy as np\n",
    "import pandas as pd\n",
    "import matplotlib.pyplot as plt\n",
    "import seaborn as sns\n",
    "%matplotlib inline\n",
    "\n",
    "from sklearn.model_selection import train_test_split\n",
    "from sklearn.metrics import accuracy_score, precision_score, recall_score, roc_auc_score\n",
    "from sklearn.metrics import f1_score, confusion_matrix, precision_recall_curve, roc_curve\n",
    "from sklearn.preprocessing import StandardScaler\n",
    "from sklearn.tree import DecisionTreeClassifier\n",
    "\n",
    "diabetes_data = pd.read_csv('diabetes.csv')\n",
    "\n",
    "print(diabetes_data.describe())\n",
    "print(\"\\n\")\n",
    "\n",
    "print('데이터 세트 Null 값 갯수 ',diabetes_data.isnull().sum().sum(), \"\\n\")"
   ]
  },
  {
   "cell_type": "code",
   "execution_count": 3,
   "id": "d3b4cfc5-1e4a-4f0a-bd11-354ec1b505a7",
   "metadata": {},
   "outputs": [
    {
     "name": "stdout",
     "output_type": "stream",
     "text": [
      "Index(['Pregnancies', 'Glucose', 'BloodPressure', 'SkinThickness', 'Insulin',\n",
      "       'BMI', 'DiabetesPedigreeFunction', 'Age', 'Outcome'],\n",
      "      dtype='object')\n",
      "Outcome\n",
      "0    500\n",
      "1    268\n",
      "Name: count, dtype: int64\n"
     ]
    }
   ],
   "source": [
    "print(diabetes_data.columns)\n",
    "print(diabetes_data['Outcome'].value_counts())"
   ]
  },
  {
   "cell_type": "code",
   "execution_count": 4,
   "id": "49e747e2-f2bf-4d16-a745-3502c1e73e34",
   "metadata": {},
   "outputs": [],
   "source": [
    "zero_features = ['Glucose', 'BloodPressure','SkinThickness','Insulin','BMI']\n",
    "\n",
    "diabetes_data[zero_features] = diabetes_data[zero_features].replace(0, diabetes_data[zero_features].mean())\n",
    "\n",
    "diabetes_data.describe()\n",
    "\n",
    "\n",
    "X = diabetes_data.iloc[:, :-1]\n",
    "y = diabetes_data.iloc[:, -1]\n",
    "\n",
    "# # StandardScaler 클래스를 이용해 피처 데이터 세트에 일괄적으로 스케일링 적용\n",
    "# scaler = StandardScaler( )\n",
    "# X_scaled = scaler.fit_transform(X)\n",
    "\n",
    "from sklearn.model_selection import train_test_split\n",
    "\n",
    "# 전체 데이터 중 80%는 학습용 데이터, 20%는 테스트용 데이터 추출\n",
    "X_train, X_test, y_train, y_test = train_test_split(X, y, test_size=0.2, random_state=156 )\n",
    "\n",
    "# 위에서 만든 X_train, y_train을 다시 쪼개서 90%는 학습과 10%는 검증용 데이터로 분리 \n",
    "X_tr, X_val, y_tr, y_val = train_test_split(X_train, y_train, test_size=0.1, random_state=156 )"
   ]
  },
  {
   "cell_type": "code",
   "execution_count": 5,
   "id": "43638b8b-e9fe-4f15-9074-4d13a281de4f",
   "metadata": {},
   "outputs": [],
   "source": [
    "# 만약 구버전 XGBoost에서 DataFrame으로 DMatrix 생성이 안될 경우 X_train.values로 넘파이 변환. \n",
    "# 학습, 검증, 테스트용 DMatrix를 생성. \n",
    "dtr = xgb.DMatrix(data=X_tr, label=y_tr)\n",
    "dval = xgb.DMatrix(data=X_val, label=y_val)\n",
    "dtest = xgb.DMatrix(data=X_test , label=y_test)"
   ]
  },
  {
   "cell_type": "code",
   "execution_count": 6,
   "id": "605709c1-d395-4164-9c8c-bc539ed9e15e",
   "metadata": {},
   "outputs": [],
   "source": [
    "params = { 'max_depth':3,\n",
    "           'eta': 0.05, # learning-rate\n",
    "           'objective':'binary:logistic', #iteration\n",
    "           'eval_metric':'logloss'\n",
    "        }\n",
    "num_rounds = 400 # n_estermators"
   ]
  },
  {
   "cell_type": "code",
   "execution_count": 7,
   "id": "45a1e7b7-3ef7-4193-b50d-a1a8ef4d3d2a",
   "metadata": {
    "scrolled": true
   },
   "outputs": [
    {
     "name": "stdout",
     "output_type": "stream",
     "text": [
      "[0]\ttrain-logloss:0.61431\teval-logloss:0.76076\n",
      "[1]\ttrain-logloss:0.60101\teval-logloss:0.74442\n",
      "[2]\ttrain-logloss:0.58895\teval-logloss:0.73083\n",
      "[3]\ttrain-logloss:0.57670\teval-logloss:0.71630\n",
      "[4]\ttrain-logloss:0.56547\teval-logloss:0.70268\n",
      "[5]\ttrain-logloss:0.55520\teval-logloss:0.69041\n",
      "[6]\ttrain-logloss:0.54518\teval-logloss:0.68073\n",
      "[7]\ttrain-logloss:0.53630\teval-logloss:0.67014\n",
      "[8]\ttrain-logloss:0.52845\teval-logloss:0.66105\n",
      "[9]\ttrain-logloss:0.52032\teval-logloss:0.65395\n",
      "[10]\ttrain-logloss:0.51281\teval-logloss:0.64577\n",
      "[11]\ttrain-logloss:0.50636\teval-logloss:0.63919\n",
      "[12]\ttrain-logloss:0.49915\teval-logloss:0.62999\n",
      "[13]\ttrain-logloss:0.49227\teval-logloss:0.62335\n",
      "[14]\ttrain-logloss:0.48589\teval-logloss:0.61734\n",
      "[15]\ttrain-logloss:0.47988\teval-logloss:0.61001\n",
      "[16]\ttrain-logloss:0.47481\teval-logloss:0.60642\n",
      "[17]\ttrain-logloss:0.46946\teval-logloss:0.59986\n",
      "[18]\ttrain-logloss:0.46496\teval-logloss:0.59760\n",
      "[19]\ttrain-logloss:0.46009\teval-logloss:0.59349\n",
      "[20]\ttrain-logloss:0.45531\teval-logloss:0.58873\n",
      "[21]\ttrain-logloss:0.45104\teval-logloss:0.58372\n",
      "[22]\ttrain-logloss:0.44723\teval-logloss:0.58040\n",
      "[23]\ttrain-logloss:0.44365\teval-logloss:0.57906\n",
      "[24]\ttrain-logloss:0.43978\teval-logloss:0.57579\n",
      "[25]\ttrain-logloss:0.43623\teval-logloss:0.57247\n",
      "[26]\ttrain-logloss:0.43260\teval-logloss:0.56997\n",
      "[27]\ttrain-logloss:0.42926\teval-logloss:0.56711\n",
      "[28]\ttrain-logloss:0.42631\teval-logloss:0.56450\n",
      "[29]\ttrain-logloss:0.42291\teval-logloss:0.56328\n",
      "[30]\ttrain-logloss:0.41992\teval-logloss:0.56109\n",
      "[31]\ttrain-logloss:0.41733\teval-logloss:0.55891\n",
      "[32]\ttrain-logloss:0.41441\teval-logloss:0.55581\n",
      "[33]\ttrain-logloss:0.41172\teval-logloss:0.55416\n",
      "[34]\ttrain-logloss:0.40919\teval-logloss:0.55270\n",
      "[35]\ttrain-logloss:0.40640\teval-logloss:0.55055\n",
      "[36]\ttrain-logloss:0.40414\teval-logloss:0.54850\n",
      "[37]\ttrain-logloss:0.40187\teval-logloss:0.54716\n",
      "[38]\ttrain-logloss:0.39942\teval-logloss:0.54527\n",
      "[39]\ttrain-logloss:0.39708\teval-logloss:0.54448\n",
      "[40]\ttrain-logloss:0.39511\teval-logloss:0.54280\n",
      "[41]\ttrain-logloss:0.39261\teval-logloss:0.54233\n",
      "[42]\ttrain-logloss:0.39053\teval-logloss:0.54232\n",
      "[43]\ttrain-logloss:0.38861\teval-logloss:0.54150\n",
      "[44]\ttrain-logloss:0.38613\teval-logloss:0.53932\n",
      "[45]\ttrain-logloss:0.38388\teval-logloss:0.53840\n",
      "[46]\ttrain-logloss:0.38216\teval-logloss:0.53758\n",
      "[47]\ttrain-logloss:0.38006\teval-logloss:0.53734\n",
      "[48]\ttrain-logloss:0.37842\teval-logloss:0.53641\n",
      "[49]\ttrain-logloss:0.37645\teval-logloss:0.53615\n",
      "[50]\ttrain-logloss:0.37487\teval-logloss:0.53603\n",
      "[51]\ttrain-logloss:0.37343\teval-logloss:0.53563\n",
      "[52]\ttrain-logloss:0.37147\teval-logloss:0.53435\n",
      "[53]\ttrain-logloss:0.36968\teval-logloss:0.53429\n",
      "[54]\ttrain-logloss:0.36834\teval-logloss:0.53300\n",
      "[55]\ttrain-logloss:0.36708\teval-logloss:0.53326\n",
      "[56]\ttrain-logloss:0.36539\teval-logloss:0.53310\n",
      "[57]\ttrain-logloss:0.36412\teval-logloss:0.53306\n",
      "[58]\ttrain-logloss:0.36284\teval-logloss:0.53299\n",
      "[59]\ttrain-logloss:0.36162\teval-logloss:0.53296\n",
      "[60]\ttrain-logloss:0.35993\teval-logloss:0.53223\n",
      "[61]\ttrain-logloss:0.35878\teval-logloss:0.53226\n",
      "[62]\ttrain-logloss:0.35794\teval-logloss:0.53246\n",
      "[63]\ttrain-logloss:0.35652\teval-logloss:0.53260\n",
      "[64]\ttrain-logloss:0.35543\teval-logloss:0.53151\n",
      "[65]\ttrain-logloss:0.35392\teval-logloss:0.53014\n",
      "[66]\ttrain-logloss:0.35261\teval-logloss:0.53036\n",
      "[67]\ttrain-logloss:0.35165\teval-logloss:0.53021\n",
      "[68]\ttrain-logloss:0.35069\teval-logloss:0.53038\n",
      "[69]\ttrain-logloss:0.34951\teval-logloss:0.52945\n",
      "[70]\ttrain-logloss:0.34846\teval-logloss:0.52991\n",
      "[71]\ttrain-logloss:0.34780\teval-logloss:0.53028\n",
      "[72]\ttrain-logloss:0.34665\teval-logloss:0.52999\n",
      "[73]\ttrain-logloss:0.34580\teval-logloss:0.52998\n",
      "[74]\ttrain-logloss:0.34497\teval-logloss:0.53021\n",
      "[75]\ttrain-logloss:0.34413\teval-logloss:0.52973\n",
      "[76]\ttrain-logloss:0.34354\teval-logloss:0.53014\n",
      "[77]\ttrain-logloss:0.34232\teval-logloss:0.53028\n",
      "[78]\ttrain-logloss:0.34147\teval-logloss:0.52955\n",
      "[79]\ttrain-logloss:0.34050\teval-logloss:0.53003\n",
      "[80]\ttrain-logloss:0.33981\teval-logloss:0.52938\n",
      "[81]\ttrain-logloss:0.33903\teval-logloss:0.52848\n",
      "[82]\ttrain-logloss:0.33805\teval-logloss:0.52822\n",
      "[83]\ttrain-logloss:0.33732\teval-logloss:0.52838\n",
      "[84]\ttrain-logloss:0.33674\teval-logloss:0.52932\n",
      "[85]\ttrain-logloss:0.33586\teval-logloss:0.52982\n",
      "[86]\ttrain-logloss:0.33522\teval-logloss:0.52925\n",
      "[87]\ttrain-logloss:0.33450\teval-logloss:0.52841\n",
      "[88]\ttrain-logloss:0.33397\teval-logloss:0.52930\n",
      "[89]\ttrain-logloss:0.33297\teval-logloss:0.52931\n",
      "[90]\ttrain-logloss:0.33235\teval-logloss:0.52876\n",
      "[91]\ttrain-logloss:0.33172\teval-logloss:0.52838\n",
      "[92]\ttrain-logloss:0.33077\teval-logloss:0.52817\n",
      "[93]\ttrain-logloss:0.33027\teval-logloss:0.52911\n",
      "[94]\ttrain-logloss:0.32941\teval-logloss:0.52870\n",
      "[95]\ttrain-logloss:0.32895\teval-logloss:0.52967\n",
      "[96]\ttrain-logloss:0.32825\teval-logloss:0.52935\n",
      "[97]\ttrain-logloss:0.32766\teval-logloss:0.52901\n",
      "[98]\ttrain-logloss:0.32663\teval-logloss:0.52865\n",
      "[99]\ttrain-logloss:0.32618\teval-logloss:0.52958\n",
      "[100]\ttrain-logloss:0.32563\teval-logloss:0.52911\n",
      "[101]\ttrain-logloss:0.32468\teval-logloss:0.52882\n",
      "[102]\ttrain-logloss:0.32405\teval-logloss:0.52825\n",
      "[103]\ttrain-logloss:0.32307\teval-logloss:0.52778\n",
      "[104]\ttrain-logloss:0.32265\teval-logloss:0.52794\n",
      "[105]\ttrain-logloss:0.32206\teval-logloss:0.52839\n",
      "[106]\ttrain-logloss:0.32166\teval-logloss:0.52860\n",
      "[107]\ttrain-logloss:0.32089\teval-logloss:0.52841\n",
      "[108]\ttrain-logloss:0.32047\teval-logloss:0.52928\n",
      "[109]\ttrain-logloss:0.31991\teval-logloss:0.52964\n",
      "[110]\ttrain-logloss:0.31946\teval-logloss:0.52942\n",
      "[111]\ttrain-logloss:0.31859\teval-logloss:0.52901\n",
      "[112]\ttrain-logloss:0.31772\teval-logloss:0.52857\n",
      "[113]\ttrain-logloss:0.31732\teval-logloss:0.52946\n",
      "[114]\ttrain-logloss:0.31687\teval-logloss:0.52929\n",
      "[115]\ttrain-logloss:0.31606\teval-logloss:0.52950\n",
      "[116]\ttrain-logloss:0.31507\teval-logloss:0.52926\n",
      "[117]\ttrain-logloss:0.31405\teval-logloss:0.52890\n",
      "[118]\ttrain-logloss:0.31352\teval-logloss:0.52919\n",
      "[119]\ttrain-logloss:0.31315\teval-logloss:0.52939\n",
      "[120]\ttrain-logloss:0.31223\teval-logloss:0.52959\n",
      "[121]\ttrain-logloss:0.31182\teval-logloss:0.52982\n",
      "[122]\ttrain-logloss:0.31144\teval-logloss:0.53068\n",
      "[123]\ttrain-logloss:0.31098\teval-logloss:0.53063\n",
      "[124]\ttrain-logloss:0.31056\teval-logloss:0.53049\n",
      "[125]\ttrain-logloss:0.31011\teval-logloss:0.53028\n",
      "[126]\ttrain-logloss:0.30918\teval-logloss:0.52997\n",
      "[127]\ttrain-logloss:0.30869\teval-logloss:0.53003\n",
      "[128]\ttrain-logloss:0.30836\teval-logloss:0.53010\n",
      "[129]\ttrain-logloss:0.30758\teval-logloss:0.52980\n",
      "[130]\ttrain-logloss:0.30724\teval-logloss:0.53066\n",
      "[131]\ttrain-logloss:0.30667\teval-logloss:0.53100\n",
      "[132]\ttrain-logloss:0.30625\teval-logloss:0.53081\n",
      "[133]\ttrain-logloss:0.30578\teval-logloss:0.53128\n",
      "[134]\ttrain-logloss:0.30495\teval-logloss:0.53153\n",
      "[135]\ttrain-logloss:0.30443\teval-logloss:0.53187\n",
      "[136]\ttrain-logloss:0.30410\teval-logloss:0.53277\n",
      "[137]\ttrain-logloss:0.30333\teval-logloss:0.53240\n",
      "[138]\ttrain-logloss:0.30301\teval-logloss:0.53247\n",
      "[139]\ttrain-logloss:0.30264\teval-logloss:0.53251\n",
      "[140]\ttrain-logloss:0.30188\teval-logloss:0.53233\n",
      "[141]\ttrain-logloss:0.30117\teval-logloss:0.53199\n",
      "[142]\ttrain-logloss:0.30086\teval-logloss:0.53209\n",
      "[143]\ttrain-logloss:0.30018\teval-logloss:0.53263\n",
      "[144]\ttrain-logloss:0.29974\teval-logloss:0.53291\n",
      "[145]\ttrain-logloss:0.29911\teval-logloss:0.53272\n",
      "[146]\ttrain-logloss:0.29848\teval-logloss:0.53248\n",
      "[147]\ttrain-logloss:0.29783\teval-logloss:0.53329\n",
      "[148]\ttrain-logloss:0.29751\teval-logloss:0.53413\n",
      "[149]\ttrain-logloss:0.29703\teval-logloss:0.53382\n",
      "[150]\ttrain-logloss:0.29670\teval-logloss:0.53375\n",
      "[151]\ttrain-logloss:0.29634\teval-logloss:0.53359\n",
      "[152]\ttrain-logloss:0.29604\teval-logloss:0.53442\n"
     ]
    }
   ],
   "source": [
    "# 학습 데이터 셋은 'train' 또는 평가 데이터 셋은 'eval' 로 명기합니다. \n",
    "eval_list = [(dtr,'train'),(dval,'eval')] # 또는 eval_list = [(dval,'eval')] 만 명기해도 무방. \n",
    "\n",
    "# 하이퍼 파라미터와 early stopping 파라미터를 train( ) 함수의 파라미터로 전달\n",
    "xgb_model = xgb.train(params = params , dtrain=dtr , num_boost_round=num_rounds , \\\n",
    "                      early_stopping_rounds=50, evals=eval_list )"
   ]
  },
  {
   "cell_type": "code",
   "execution_count": 8,
   "id": "e33a704b-8694-49b3-8f8c-9049f88a4036",
   "metadata": {},
   "outputs": [
    {
     "name": "stdout",
     "output_type": "stream",
     "text": [
      "predict( ) 수행 결과값을 10개만 표시, 예측 확률 값으로 표시됨\n",
      "[0.433 0.493 0.048 0.562 0.004 0.904 0.906 0.119 0.818 0.013] \n",
      "\n",
      "예측값 10개만 표시: [0, 0, 0, 1, 0, 1, 1, 0, 1, 0]\n"
     ]
    }
   ],
   "source": [
    "# predict()를 통해 예측 확률값을 반환하고 예측 값으로 변환\n",
    "pred_probs = xgb_model.predict(dtest)\n",
    "print('predict( ) 수행 결과값을 10개만 표시, 예측 확률 값으로 표시됨')\n",
    "print(np.round(pred_probs[:10],3), \"\\n\")\n",
    "\n",
    "# 예측 확률이 0.5 보다 크면 1 , 그렇지 않으면 0 으로 예측값 결정하여 List 객체인 preds에 저장 \n",
    "preds = [ 1 if x > 0.5 else 0 for x in pred_probs ]\n",
    "print('예측값 10개만 표시:',preds[:10])"
   ]
  },
  {
   "cell_type": "code",
   "execution_count": 9,
   "id": "e74e582b-df77-4ab7-ad6e-679340adbb76",
   "metadata": {},
   "outputs": [
    {
     "name": "stdout",
     "output_type": "stream",
     "text": [
      "오차 행렬\n",
      "[[84 13]\n",
      " [28 29]]\n",
      "정확도: 0.7338, 정밀도: 0.6905, 재현율: 0.5088,    F1: 0.5859, AUC:0.8123\n"
     ]
    }
   ],
   "source": [
    "from sklearn.metrics import confusion_matrix, accuracy_score\n",
    "from sklearn.metrics import precision_score, recall_score\n",
    "from sklearn.metrics import f1_score, roc_auc_score\n",
    "\n",
    "def get_clf_eval(y_test, pred=None, pred_proba=None):\n",
    "    confusion = confusion_matrix( y_test, pred)\n",
    "    accuracy = accuracy_score(y_test , pred)\n",
    "    precision = precision_score(y_test , pred)\n",
    "    recall = recall_score(y_test , pred)\n",
    "    f1 = f1_score(y_test,pred)\n",
    "    # ROC-AUC 추가 \n",
    "    roc_auc = roc_auc_score(y_test, pred_proba)\n",
    "    print('오차 행렬')\n",
    "    print(confusion)\n",
    "    # ROC-AUC print 추가\n",
    "    print('정확도: {0:.4f}, 정밀도: {1:.4f}, 재현율: {2:.4f},\\\n",
    "    F1: {3:.4f}, AUC:{4:.4f}'.format(accuracy, precision, recall, f1, roc_auc))\n",
    "\n",
    "get_clf_eval(y_test , preds, pred_probs)"
   ]
  },
  {
   "cell_type": "code",
   "execution_count": 10,
   "id": "2c7533ab-e20d-4d7f-9d7b-41dbad1eec66",
   "metadata": {
    "scrolled": true
   },
   "outputs": [
    {
     "data": {
      "text/plain": [
       "<Axes: title={'center': 'Feature importance'}, xlabel='F score', ylabel='Features'>"
      ]
     },
     "execution_count": 10,
     "metadata": {},
     "output_type": "execute_result"
    },
    {
     "data": {
      "image/png": "[encoded data removed]",
      "text/plain": [
       "<Figure size 1000x1200 with 1 Axes>"
      ]
     },
     "metadata": {},
     "output_type": "display_data"
    }
   ],
   "source": [
    "import matplotlib.pyplot as plt\n",
    "%matplotlib inline\n",
    "\n",
    "fig, ax = plt.subplots(figsize=(10, 12))\n",
    "plot_importance(xgb_model, ax=ax) # ax가 그림을 그린다."
   ]
  },
  {
   "cell_type": "markdown",
   "id": "74cfeb12-5503-4ded-a991-4dbef5e7466d",
   "metadata": {},
   "source": [
    "#### 사이킷런 Wrapper XGBoost 개요 및 적용"
   ]
  },
  {
   "cell_type": "code",
   "execution_count": 11,
   "id": "9d6caad1-e060-40a9-8e60-27528a47ca0c",
   "metadata": {},
   "outputs": [],
   "source": [
    "# 사이킷런 래퍼 XGBoost 클래스인 XGBClassifier 임포트\n",
    "from xgboost import XGBClassifier\n",
    "\n",
    "# Warning 메시지를 없애기 위해 eval_metric 값을 XGBClassifier 생성 인자로 입력. 미 입력해도 수행에 문제 없음.   \n",
    "xgb_wrapper = XGBClassifier(n_estimators=400, learning_rate=0.05, max_depth=3, eval_metric='logloss')\n",
    "xgb_wrapper.fit(X_train, y_train, verbose=True)\n",
    "w_preds = xgb_wrapper.predict(X_test)\n",
    "w_pred_proba = xgb_wrapper.predict_proba(X_test)[:, 1]"
   ]
  },
  {
   "cell_type": "code",
   "execution_count": 12,
   "id": "ae4c72ca-d677-4e44-b36e-8ee62c2b77d7",
   "metadata": {},
   "outputs": [
    {
     "name": "stdout",
     "output_type": "stream",
     "text": [
      "오차 행렬\n",
      "[[81 16]\n",
      " [23 34]]\n",
      "정확도: 0.7468, 정밀도: 0.6800, 재현율: 0.5965,    F1: 0.6355, AUC:0.8027\n"
     ]
    }
   ],
   "source": [
    "get_clf_eval(y_test , w_preds, w_pred_proba)"
   ]
  },
  {
   "cell_type": "code",
   "execution_count": 13,
   "id": "9c4475d0-804a-46e0-a631-2d28fba3da5a",
   "metadata": {
    "scrolled": true
   },
   "outputs": [
    {
     "name": "stdout",
     "output_type": "stream",
     "text": [
      "[0]\tvalidation_0-logloss:0.61431\tvalidation_1-logloss:0.76076\n",
      "[1]\tvalidation_0-logloss:0.60101\tvalidation_1-logloss:0.74442\n",
      "[2]\tvalidation_0-logloss:0.58895\tvalidation_1-logloss:0.73083\n",
      "[3]\tvalidation_0-logloss:0.57670\tvalidation_1-logloss:0.71630\n",
      "[4]\tvalidation_0-logloss:0.56547\tvalidation_1-logloss:0.70268\n",
      "[5]\tvalidation_0-logloss:0.55520\tvalidation_1-logloss:0.69041\n",
      "[6]\tvalidation_0-logloss:0.54518\tvalidation_1-logloss:0.68073\n",
      "[7]\tvalidation_0-logloss:0.53630\tvalidation_1-logloss:0.67014\n",
      "[8]\tvalidation_0-logloss:0.52845\tvalidation_1-logloss:0.66105\n",
      "[9]\tvalidation_0-logloss:0.52032\tvalidation_1-logloss:0.65395\n",
      "[10]\tvalidation_0-logloss:0.51281\tvalidation_1-logloss:0.64577\n",
      "[11]\tvalidation_0-logloss:0.50636\tvalidation_1-logloss:0.63919\n",
      "[12]\tvalidation_0-logloss:0.49915\tvalidation_1-logloss:0.62999\n",
      "[13]\tvalidation_0-logloss:0.49227\tvalidation_1-logloss:0.62335\n",
      "[14]\tvalidation_0-logloss:0.48589\tvalidation_1-logloss:0.61734\n",
      "[15]\tvalidation_0-logloss:0.47988\tvalidation_1-logloss:0.61001\n",
      "[16]\tvalidation_0-logloss:0.47481\tvalidation_1-logloss:0.60642\n",
      "[17]\tvalidation_0-logloss:0.46946\tvalidation_1-logloss:0.59986\n",
      "[18]\tvalidation_0-logloss:0.46496\tvalidation_1-logloss:0.59760\n",
      "[19]\tvalidation_0-logloss:0.46009\tvalidation_1-logloss:0.59349\n",
      "[20]\tvalidation_0-logloss:0.45531\tvalidation_1-logloss:0.58873\n",
      "[21]\tvalidation_0-logloss:0.45104\tvalidation_1-logloss:0.58372\n",
      "[22]\tvalidation_0-logloss:0.44723\tvalidation_1-logloss:0.58040\n",
      "[23]\tvalidation_0-logloss:0.44365\tvalidation_1-logloss:0.57906\n",
      "[24]\tvalidation_0-logloss:0.43978\tvalidation_1-logloss:0.57579\n",
      "[25]\tvalidation_0-logloss:0.43623\tvalidation_1-logloss:0.57247\n",
      "[26]\tvalidation_0-logloss:0.43260\tvalidation_1-logloss:0.56997\n",
      "[27]\tvalidation_0-logloss:0.42926\tvalidation_1-logloss:0.56711\n",
      "[28]\tvalidation_0-logloss:0.42631\tvalidation_1-logloss:0.56450\n",
      "[29]\tvalidation_0-logloss:0.42291\tvalidation_1-logloss:0.56328\n",
      "[30]\tvalidation_0-logloss:0.41992\tvalidation_1-logloss:0.56109\n",
      "[31]\tvalidation_0-logloss:0.41733\tvalidation_1-logloss:0.55891\n",
      "[32]\tvalidation_0-logloss:0.41441\tvalidation_1-logloss:0.55581\n",
      "[33]\tvalidation_0-logloss:0.41172\tvalidation_1-logloss:0.55416\n",
      "[34]\tvalidation_0-logloss:0.40919\tvalidation_1-logloss:0.55270\n",
      "[35]\tvalidation_0-logloss:0.40640\tvalidation_1-logloss:0.55055\n",
      "[36]\tvalidation_0-logloss:0.40414\tvalidation_1-logloss:0.54850\n",
      "[37]\tvalidation_0-logloss:0.40187\tvalidation_1-logloss:0.54716\n",
      "[38]\tvalidation_0-logloss:0.39942\tvalidation_1-logloss:0.54527\n",
      "[39]\tvalidation_0-logloss:0.39708\tvalidation_1-logloss:0.54448\n",
      "[40]\tvalidation_0-logloss:0.39511\tvalidation_1-logloss:0.54280\n",
      "[41]\tvalidation_0-logloss:0.39261\tvalidation_1-logloss:0.54233\n",
      "[42]\tvalidation_0-logloss:0.39053\tvalidation_1-logloss:0.54232\n",
      "[43]\tvalidation_0-logloss:0.38861\tvalidation_1-logloss:0.54150\n",
      "[44]\tvalidation_0-logloss:0.38613\tvalidation_1-logloss:0.53932\n",
      "[45]\tvalidation_0-logloss:0.38388\tvalidation_1-logloss:0.53840\n",
      "[46]\tvalidation_0-logloss:0.38216\tvalidation_1-logloss:0.53758\n",
      "[47]\tvalidation_0-logloss:0.38006\tvalidation_1-logloss:0.53734\n",
      "[48]\tvalidation_0-logloss:0.37842\tvalidation_1-logloss:0.53641\n",
      "[49]\tvalidation_0-logloss:0.37645\tvalidation_1-logloss:0.53615\n",
      "[50]\tvalidation_0-logloss:0.37487\tvalidation_1-logloss:0.53603\n",
      "[51]\tvalidation_0-logloss:0.37343\tvalidation_1-logloss:0.53563\n",
      "[52]\tvalidation_0-logloss:0.37147\tvalidation_1-logloss:0.53435\n",
      "[53]\tvalidation_0-logloss:0.36968\tvalidation_1-logloss:0.53429\n",
      "[54]\tvalidation_0-logloss:0.36834\tvalidation_1-logloss:0.53300\n",
      "[55]\tvalidation_0-logloss:0.36708\tvalidation_1-logloss:0.53326\n",
      "[56]\tvalidation_0-logloss:0.36539\tvalidation_1-logloss:0.53310\n",
      "[57]\tvalidation_0-logloss:0.36412\tvalidation_1-logloss:0.53306\n",
      "[58]\tvalidation_0-logloss:0.36284\tvalidation_1-logloss:0.53299\n",
      "[59]\tvalidation_0-logloss:0.36162\tvalidation_1-logloss:0.53296\n",
      "[60]\tvalidation_0-logloss:0.35993\tvalidation_1-logloss:0.53223\n",
      "[61]\tvalidation_0-logloss:0.35878\tvalidation_1-logloss:0.53226\n",
      "[62]\tvalidation_0-logloss:0.35794\tvalidation_1-logloss:0.53246\n",
      "[63]\tvalidation_0-logloss:0.35652\tvalidation_1-logloss:0.53260\n",
      "[64]\tvalidation_0-logloss:0.35543\tvalidation_1-logloss:0.53151\n",
      "[65]\tvalidation_0-logloss:0.35392\tvalidation_1-logloss:0.53014\n",
      "[66]\tvalidation_0-logloss:0.35261\tvalidation_1-logloss:0.53036\n",
      "[67]\tvalidation_0-logloss:0.35165\tvalidation_1-logloss:0.53021\n",
      "[68]\tvalidation_0-logloss:0.35069\tvalidation_1-logloss:0.53038\n",
      "[69]\tvalidation_0-logloss:0.34951\tvalidation_1-logloss:0.52945\n",
      "[70]\tvalidation_0-logloss:0.34846\tvalidation_1-logloss:0.52991\n",
      "[71]\tvalidation_0-logloss:0.34780\tvalidation_1-logloss:0.53028\n",
      "[72]\tvalidation_0-logloss:0.34665\tvalidation_1-logloss:0.52999\n",
      "[73]\tvalidation_0-logloss:0.34580\tvalidation_1-logloss:0.52998\n",
      "[74]\tvalidation_0-logloss:0.34497\tvalidation_1-logloss:0.53021\n",
      "[75]\tvalidation_0-logloss:0.34413\tvalidation_1-logloss:0.52973\n",
      "[76]\tvalidation_0-logloss:0.34354\tvalidation_1-logloss:0.53014\n",
      "[77]\tvalidation_0-logloss:0.34232\tvalidation_1-logloss:0.53028\n",
      "[78]\tvalidation_0-logloss:0.34147\tvalidation_1-logloss:0.52955\n",
      "[79]\tvalidation_0-logloss:0.34050\tvalidation_1-logloss:0.53003\n",
      "[80]\tvalidation_0-logloss:0.33981\tvalidation_1-logloss:0.52938\n",
      "[81]\tvalidation_0-logloss:0.33903\tvalidation_1-logloss:0.52848\n",
      "[82]\tvalidation_0-logloss:0.33805\tvalidation_1-logloss:0.52822\n",
      "[83]\tvalidation_0-logloss:0.33732\tvalidation_1-logloss:0.52838\n",
      "[84]\tvalidation_0-logloss:0.33674\tvalidation_1-logloss:0.52932\n",
      "[85]\tvalidation_0-logloss:0.33586\tvalidation_1-logloss:0.52982\n",
      "[86]\tvalidation_0-logloss:0.33522\tvalidation_1-logloss:0.52925\n",
      "[87]\tvalidation_0-logloss:0.33450\tvalidation_1-logloss:0.52841\n",
      "[88]\tvalidation_0-logloss:0.33397\tvalidation_1-logloss:0.52930\n",
      "[89]\tvalidation_0-logloss:0.33297\tvalidation_1-logloss:0.52931\n",
      "[90]\tvalidation_0-logloss:0.33235\tvalidation_1-logloss:0.52876\n",
      "[91]\tvalidation_0-logloss:0.33172\tvalidation_1-logloss:0.52838\n",
      "[92]\tvalidation_0-logloss:0.33077\tvalidation_1-logloss:0.52817\n",
      "[93]\tvalidation_0-logloss:0.33027\tvalidation_1-logloss:0.52911\n",
      "[94]\tvalidation_0-logloss:0.32941\tvalidation_1-logloss:0.52870\n",
      "[95]\tvalidation_0-logloss:0.32895\tvalidation_1-logloss:0.52967\n",
      "[96]\tvalidation_0-logloss:0.32825\tvalidation_1-logloss:0.52935\n",
      "[97]\tvalidation_0-logloss:0.32766\tvalidation_1-logloss:0.52901\n",
      "[98]\tvalidation_0-logloss:0.32663\tvalidation_1-logloss:0.52865\n",
      "[99]\tvalidation_0-logloss:0.32618\tvalidation_1-logloss:0.52958\n",
      "[100]\tvalidation_0-logloss:0.32563\tvalidation_1-logloss:0.52911\n",
      "[101]\tvalidation_0-logloss:0.32468\tvalidation_1-logloss:0.52882\n",
      "[102]\tvalidation_0-logloss:0.32405\tvalidation_1-logloss:0.52825\n",
      "[103]\tvalidation_0-logloss:0.32307\tvalidation_1-logloss:0.52778\n",
      "[104]\tvalidation_0-logloss:0.32265\tvalidation_1-logloss:0.52794\n",
      "[105]\tvalidation_0-logloss:0.32206\tvalidation_1-logloss:0.52839\n",
      "[106]\tvalidation_0-logloss:0.32166\tvalidation_1-logloss:0.52860\n",
      "[107]\tvalidation_0-logloss:0.32089\tvalidation_1-logloss:0.52841\n",
      "[108]\tvalidation_0-logloss:0.32047\tvalidation_1-logloss:0.52928\n",
      "[109]\tvalidation_0-logloss:0.31991\tvalidation_1-logloss:0.52964\n",
      "[110]\tvalidation_0-logloss:0.31946\tvalidation_1-logloss:0.52942\n",
      "[111]\tvalidation_0-logloss:0.31859\tvalidation_1-logloss:0.52901\n",
      "[112]\tvalidation_0-logloss:0.31772\tvalidation_1-logloss:0.52857\n",
      "[113]\tvalidation_0-logloss:0.31732\tvalidation_1-logloss:0.52946\n",
      "[114]\tvalidation_0-logloss:0.31687\tvalidation_1-logloss:0.52929\n",
      "[115]\tvalidation_0-logloss:0.31606\tvalidation_1-logloss:0.52950\n",
      "[116]\tvalidation_0-logloss:0.31507\tvalidation_1-logloss:0.52926\n",
      "[117]\tvalidation_0-logloss:0.31405\tvalidation_1-logloss:0.52890\n",
      "[118]\tvalidation_0-logloss:0.31352\tvalidation_1-logloss:0.52919\n",
      "[119]\tvalidation_0-logloss:0.31315\tvalidation_1-logloss:0.52939\n",
      "[120]\tvalidation_0-logloss:0.31223\tvalidation_1-logloss:0.52959\n",
      "[121]\tvalidation_0-logloss:0.31182\tvalidation_1-logloss:0.52982\n",
      "[122]\tvalidation_0-logloss:0.31144\tvalidation_1-logloss:0.53068\n",
      "[123]\tvalidation_0-logloss:0.31098\tvalidation_1-logloss:0.53063\n",
      "[124]\tvalidation_0-logloss:0.31056\tvalidation_1-logloss:0.53049\n",
      "[125]\tvalidation_0-logloss:0.31011\tvalidation_1-logloss:0.53028\n",
      "[126]\tvalidation_0-logloss:0.30918\tvalidation_1-logloss:0.52997\n",
      "[127]\tvalidation_0-logloss:0.30869\tvalidation_1-logloss:0.53003\n",
      "[128]\tvalidation_0-logloss:0.30836\tvalidation_1-logloss:0.53010\n",
      "[129]\tvalidation_0-logloss:0.30758\tvalidation_1-logloss:0.52980\n",
      "[130]\tvalidation_0-logloss:0.30724\tvalidation_1-logloss:0.53066\n",
      "[131]\tvalidation_0-logloss:0.30667\tvalidation_1-logloss:0.53100\n",
      "[132]\tvalidation_0-logloss:0.30625\tvalidation_1-logloss:0.53081\n",
      "[133]\tvalidation_0-logloss:0.30578\tvalidation_1-logloss:0.53128\n",
      "[134]\tvalidation_0-logloss:0.30495\tvalidation_1-logloss:0.53153\n",
      "[135]\tvalidation_0-logloss:0.30443\tvalidation_1-logloss:0.53187\n",
      "[136]\tvalidation_0-logloss:0.30410\tvalidation_1-logloss:0.53277\n",
      "[137]\tvalidation_0-logloss:0.30333\tvalidation_1-logloss:0.53240\n",
      "[138]\tvalidation_0-logloss:0.30301\tvalidation_1-logloss:0.53247\n",
      "[139]\tvalidation_0-logloss:0.30264\tvalidation_1-logloss:0.53251\n",
      "[140]\tvalidation_0-logloss:0.30188\tvalidation_1-logloss:0.53233\n",
      "[141]\tvalidation_0-logloss:0.30117\tvalidation_1-logloss:0.53199\n",
      "[142]\tvalidation_0-logloss:0.30086\tvalidation_1-logloss:0.53209\n",
      "[143]\tvalidation_0-logloss:0.30018\tvalidation_1-logloss:0.53263\n",
      "[144]\tvalidation_0-logloss:0.29974\tvalidation_1-logloss:0.53291\n",
      "[145]\tvalidation_0-logloss:0.29911\tvalidation_1-logloss:0.53272\n",
      "[146]\tvalidation_0-logloss:0.29848\tvalidation_1-logloss:0.53248\n",
      "[147]\tvalidation_0-logloss:0.29783\tvalidation_1-logloss:0.53329\n",
      "[148]\tvalidation_0-logloss:0.29751\tvalidation_1-logloss:0.53413\n",
      "[149]\tvalidation_0-logloss:0.29703\tvalidation_1-logloss:0.53382\n",
      "[150]\tvalidation_0-logloss:0.29670\tvalidation_1-logloss:0.53375\n",
      "[151]\tvalidation_0-logloss:0.29634\tvalidation_1-logloss:0.53359\n",
      "[152]\tvalidation_0-logloss:0.29604\tvalidation_1-logloss:0.53442\n",
      "[153]\tvalidation_0-logloss:0.29538\tvalidation_1-logloss:0.53411\n"
     ]
    },
    {
     "name": "stderr",
     "output_type": "stream",
     "text": [
      "/opt/homebrew/lib/python3.12/site-packages/xgboost/sklearn.py:889: UserWarning: `eval_metric` in `fit` method is deprecated for better compatibility with scikit-learn, use `eval_metric` in constructor or`set_params` instead.\n",
      "  warnings.warn(\n",
      "/opt/homebrew/lib/python3.12/site-packages/xgboost/sklearn.py:889: UserWarning: `early_stopping_rounds` in `fit` method is deprecated for better compatibility with scikit-learn, use `early_stopping_rounds` in constructor or`set_params` instead.\n",
      "  warnings.warn(\n"
     ]
    }
   ],
   "source": [
    "from xgboost import XGBClassifier\n",
    "\n",
    "xgb_wrapper = XGBClassifier(n_estimators=400, learning_rate=0.05, max_depth=3)\n",
    "evals = [(X_tr, y_tr), (X_val, y_val)]\n",
    "xgb_wrapper.fit(X_tr, y_tr, early_stopping_rounds=50, eval_metric=\"logloss\", # 학습할 때 early_stopping 적용\n",
    "                eval_set=evals, verbose=True)\n",
    "\n",
    "ws50_preds = xgb_wrapper.predict(X_test)\n",
    "ws50_pred_proba = xgb_wrapper.predict_proba(X_test)[:, 1]"
   ]
  },
  {
   "cell_type": "code",
   "execution_count": 14,
   "id": "1302433c-132c-4581-8b7b-77bbc41131af",
   "metadata": {},
   "outputs": [
    {
     "name": "stdout",
     "output_type": "stream",
     "text": [
      "오차 행렬\n",
      "[[83 14]\n",
      " [30 27]]\n",
      "정확도: 0.7143, 정밀도: 0.6585, 재현율: 0.4737,    F1: 0.5510, AUC:0.8093\n"
     ]
    }
   ],
   "source": [
    "get_clf_eval(y_test , ws50_preds, ws50_pred_proba)"
   ]
  },
  {
   "cell_type": "code",
   "execution_count": 15,
   "id": "ddaed1f9-98bc-44e8-9ccb-b4264e5b0275",
   "metadata": {
    "scrolled": true
   },
   "outputs": [
    {
     "data": {
      "text/plain": [
       "<Axes: title={'center': 'Feature importance'}, xlabel='F score', ylabel='Features'>"
      ]
     },
     "execution_count": 15,
     "metadata": {},
     "output_type": "execute_result"
    },
    {
     "data": {
      "image/png": "[encoded data removed]",
      "text/plain": [
       "<Figure size 1000x1200 with 1 Axes>"
      ]
     },
     "metadata": {},
     "output_type": "display_data"
    }
   ],
   "source": [
    "from xgboost import plot_importance\n",
    "import matplotlib.pyplot as plt\n",
    "%matplotlib inline\n",
    "\n",
    "fig, ax = plt.subplots(figsize=(10, 12))\n",
    "# 사이킷런 래퍼 클래스를 입력해도 무방. \n",
    "plot_importance(xgb_wrapper, ax=ax)"
   ]
  }
 ],
 "metadata": {
  "kernelspec": {
   "display_name": "Python 3 (ipykernel)",
   "language": "python",
   "name": "python3"
  },
  "language_info": {
   "codemirror_mode": {
    "name": "ipython",
    "version": 3
   },
   "file_extension": ".py",
   "mimetype": "text/x-python",
   "name": "python",
   "nbconvert_exporter": "python",
   "pygments_lexer": "ipython3",
   "version": "3.12.3"
  }
 },
 "nbformat": 4,
 "nbformat_minor": 5
}
